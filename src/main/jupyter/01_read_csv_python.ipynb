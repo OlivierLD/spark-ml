{
 "cells": [
  {
   "cell_type": "markdown",
   "metadata": {},
   "source": [
    "# Reading a CSV file"
   ]
  },
  {
   "cell_type": "code",
   "execution_count": 1,
   "metadata": {},
   "outputs": [
    {
     "name": "stdout",
     "output_type": "stream",
     "text": [
      "Running from /workdir/spark-3.0.1-bin-hadoop2.7-hive1.2/spark-ml/src/main/jupyter\n"
     ]
    }
   ],
   "source": [
    "import os\n",
    "curr_dir = os.getcwd()\n",
    "print(\"Running from {}\".format(curr_dir))"
   ]
  },
  {
   "cell_type": "code",
   "execution_count": 2,
   "metadata": {},
   "outputs": [
    {
     "data": {
      "text/plain": [
       "'3.0.1'"
      ]
     },
     "execution_count": 2,
     "metadata": {},
     "output_type": "execute_result"
    }
   ],
   "source": [
    "from pyspark.sql import SparkSession\n",
    "\n",
    "# Use the `builder` attribute to construct an instance of the `SparkSession` class:\n",
    "spark = SparkSession.builder \\\n",
    "    .appName(\"spark\") \\\n",
    "    .getOrCreate()\n",
    "\n",
    "# Spark version number:\n",
    "spark.version"
   ]
  },
  {
   "cell_type": "markdown",
   "metadata": {},
   "source": [
    "### Loading the data"
   ]
  },
  {
   "cell_type": "code",
   "execution_count": 3,
   "metadata": {},
   "outputs": [],
   "source": [
    "RIDES_PATH = \"file:///workdir/spark-3.0.1-bin-hadoop2.7-hive1.2/spark-ml/duocar/raw/rides\"\n",
    "# Use the `csv` method of the `DataFrameReader` class to read the raw ride data\n",
    "# from HDFS into a DataFrame:\n",
    "# rides = spark.read.csv(\"/duocar/raw/rides/\", sep=\",\", header=True, inferSchema=True)\n",
    "rides = spark.read.csv(RIDES_PATH, sep=\",\", header=True, inferSchema=True)"
   ]
  },
  {
   "cell_type": "markdown",
   "metadata": {},
   "source": [
    "### Examining the schema of a DataFrame"
   ]
  },
  {
   "cell_type": "code",
   "execution_count": 4,
   "metadata": {},
   "outputs": [
    {
     "name": "stdout",
     "output_type": "stream",
     "text": [
      "root\n",
      " |-- id: integer (nullable = true)\n",
      " |-- driver_id: long (nullable = true)\n",
      " |-- rider_id: long (nullable = true)\n",
      " |-- date_time: string (nullable = true)\n",
      " |-- utc_offset: integer (nullable = true)\n",
      " |-- service: string (nullable = true)\n",
      " |-- origin_lat: double (nullable = true)\n",
      " |-- origin_lon: double (nullable = true)\n",
      " |-- dest_lat: double (nullable = true)\n",
      " |-- dest_lon: double (nullable = true)\n",
      " |-- distance: integer (nullable = true)\n",
      " |-- duration: integer (nullable = true)\n",
      " |-- cancelled: integer (nullable = true)\n",
      " |-- star_rating: integer (nullable = true)\n",
      "\n"
     ]
    }
   ],
   "source": [
    "rides.printSchema()"
   ]
  },
  {
   "cell_type": "markdown",
   "metadata": {},
   "source": [
    "Access the `columns` attribute to get a list of column names:"
   ]
  },
  {
   "cell_type": "code",
   "execution_count": 5,
   "metadata": {},
   "outputs": [
    {
     "data": {
      "text/plain": [
       "['id',\n",
       " 'driver_id',\n",
       " 'rider_id',\n",
       " 'date_time',\n",
       " 'utc_offset',\n",
       " 'service',\n",
       " 'origin_lat',\n",
       " 'origin_lon',\n",
       " 'dest_lat',\n",
       " 'dest_lon',\n",
       " 'distance',\n",
       " 'duration',\n",
       " 'cancelled',\n",
       " 'star_rating']"
      ]
     },
     "execution_count": 5,
     "metadata": {},
     "output_type": "execute_result"
    }
   ],
   "source": [
    "rides.columns"
   ]
  },
  {
   "cell_type": "markdown",
   "metadata": {},
   "source": [
    "Access the `dtypes` attribute to get a list of column names and data types:"
   ]
  },
  {
   "cell_type": "code",
   "execution_count": 6,
   "metadata": {},
   "outputs": [
    {
     "data": {
      "text/plain": [
       "[('id', 'int'),\n",
       " ('driver_id', 'bigint'),\n",
       " ('rider_id', 'bigint'),\n",
       " ('date_time', 'string'),\n",
       " ('utc_offset', 'int'),\n",
       " ('service', 'string'),\n",
       " ('origin_lat', 'double'),\n",
       " ('origin_lon', 'double'),\n",
       " ('dest_lat', 'double'),\n",
       " ('dest_lon', 'double'),\n",
       " ('distance', 'int'),\n",
       " ('duration', 'int'),\n",
       " ('cancelled', 'int'),\n",
       " ('star_rating', 'int')]"
      ]
     },
     "execution_count": 6,
     "metadata": {},
     "output_type": "execute_result"
    }
   ],
   "source": [
    "rides.dtypes"
   ]
  },
  {
   "cell_type": "markdown",
   "metadata": {},
   "source": [
    "Access the `schema` attribute to get the schema as a instance of the `StructType` class:"
   ]
  },
  {
   "cell_type": "code",
   "execution_count": 7,
   "metadata": {},
   "outputs": [
    {
     "data": {
      "text/plain": [
       "StructType(List(StructField(id,IntegerType,true),StructField(driver_id,LongType,true),StructField(rider_id,LongType,true),StructField(date_time,StringType,true),StructField(utc_offset,IntegerType,true),StructField(service,StringType,true),StructField(origin_lat,DoubleType,true),StructField(origin_lon,DoubleType,true),StructField(dest_lat,DoubleType,true),StructField(dest_lon,DoubleType,true),StructField(distance,IntegerType,true),StructField(duration,IntegerType,true),StructField(cancelled,IntegerType,true),StructField(star_rating,IntegerType,true)))"
      ]
     },
     "execution_count": 7,
     "metadata": {},
     "output_type": "execute_result"
    }
   ],
   "source": [
    "rides.schema"
   ]
  },
  {
   "cell_type": "markdown",
   "metadata": {},
   "source": [
    "### Computing the number of rows and columns of a DataFrame"
   ]
  },
  {
   "cell_type": "markdown",
   "metadata": {},
   "source": [
    "Call the `count` method to compute the number of rows:"
   ]
  },
  {
   "cell_type": "code",
   "execution_count": 8,
   "metadata": {},
   "outputs": [
    {
     "data": {
      "text/plain": [
       "48775"
      ]
     },
     "execution_count": 8,
     "metadata": {},
     "output_type": "execute_result"
    }
   ],
   "source": [
    "rides.count()"
   ]
  },
  {
   "cell_type": "markdown",
   "metadata": {},
   "source": [
    "Pass the list of column names to the Python `len` function to compute the number of columns:"
   ]
  },
  {
   "cell_type": "code",
   "execution_count": 9,
   "metadata": {},
   "outputs": [
    {
     "data": {
      "text/plain": [
       "14"
      ]
     },
     "execution_count": 9,
     "metadata": {},
     "output_type": "execute_result"
    }
   ],
   "source": [
    "len(rides.columns)"
   ]
  },
  {
   "cell_type": "markdown",
   "metadata": {},
   "source": [
    "### Examining a few rows of a DataFrame"
   ]
  },
  {
   "cell_type": "markdown",
   "metadata": {},
   "source": [
    "Call the `show` method to print some rows of a DataFrame:"
   ]
  },
  {
   "cell_type": "code",
   "execution_count": 10,
   "metadata": {},
   "outputs": [
    {
     "name": "stdout",
     "output_type": "stream",
     "text": [
      "+---+------------+------------+----------------+----------+-------+----------+----------+---------+----------+--------+--------+---------+-----------+\n",
      "| id|   driver_id|    rider_id|       date_time|utc_offset|service|origin_lat|origin_lon| dest_lat|  dest_lon|distance|duration|cancelled|star_rating|\n",
      "+---+------------+------------+----------------+----------+-------+----------+----------+---------+----------+--------+--------+---------+-----------+\n",
      "|  1|220200000214|220200000084|2017-02-01 00:14|        -6|   null| 46.850956|-96.902849| 46.86005|-96.825442|   10123|     729|        0|          5|\n",
      "|  2|220200000107|220200000462|2017-02-01 00:36|        -6|   null| 46.900432|-96.765807|46.840588|-96.868087|   16043|    1299|        0|          5|\n",
      "|  3|220200000214|220200000489|2017-02-01 02:26|        -6|   Noir| 46.868382|-96.902718|46.815272|-96.862056|    9362|     736|        0|          5|\n",
      "|  4|220200000067|220200000057|2017-02-01 03:00|        -6|   null| 46.908567|-96.905391| 46.90438|-96.793999|    9060|     773|        0|          5|\n",
      "|  5|220200000067|220200000012|2017-02-01 03:49|        -6|   null| 46.895864|-96.805807| 46.86903|-96.785232|    5076|     721|        0|          5|\n",
      "+---+------------+------------+----------------+----------+-------+----------+----------+---------+----------+--------+--------+---------+-----------+\n",
      "only showing top 5 rows\n",
      "\n",
      "+---+---------+--------+---------+----------+-------+----------+----------+--------+--------+--------+--------+---------+-----------+\n",
      "| id|driver_id|rider_id|date_time|utc_offset|service|origin_lat|origin_lon|dest_lat|dest_lon|distance|duration|cancelled|star_rating|\n",
      "+---+---------+--------+---------+----------+-------+----------+----------+--------+--------+--------+--------+---------+-----------+\n",
      "|  1|    22...|   22...|    20...|        -6|   null|     46...|     -9...|   46...|   -9...|   10123|     729|        0|          5|\n",
      "|  2|    22...|   22...|    20...|        -6|   null|     46...|     -9...|   46...|   -9...|   16043|    1299|        0|          5|\n",
      "|  3|    22...|   22...|    20...|        -6|   Noir|     46...|     -9...|   46...|   -9...|    9362|     736|        0|          5|\n",
      "|  4|    22...|   22...|    20...|        -6|   null|     46...|     -9...|   46...|   -9...|    9060|     773|        0|          5|\n",
      "|  5|    22...|   22...|    20...|        -6|   null|     46...|     -9...|   46...|   -9...|    5076|     721|        0|          5|\n",
      "+---+---------+--------+---------+----------+-------+----------+----------+--------+--------+--------+--------+---------+-----------+\n",
      "only showing top 5 rows\n",
      "\n",
      "-RECORD 0-----------------------\n",
      " id          | 1                \n",
      " driver_id   | 220200000214     \n",
      " rider_id    | 220200000084     \n",
      " date_time   | 2017-02-01 00:14 \n",
      " utc_offset  | -6               \n",
      " service     | null             \n",
      " origin_lat  | 46.850956        \n",
      " origin_lon  | -96.902849       \n",
      " dest_lat    | 46.86005         \n",
      " dest_lon    | -96.825442       \n",
      " distance    | 10123            \n",
      " duration    | 729              \n",
      " cancelled   | 0                \n",
      " star_rating | 5                \n",
      "-RECORD 1-----------------------\n",
      " id          | 2                \n",
      " driver_id   | 220200000107     \n",
      " rider_id    | 220200000462     \n",
      " date_time   | 2017-02-01 00:36 \n",
      " utc_offset  | -6               \n",
      " service     | null             \n",
      " origin_lat  | 46.900432        \n",
      " origin_lon  | -96.765807       \n",
      " dest_lat    | 46.840588        \n",
      " dest_lon    | -96.868087       \n",
      " distance    | 16043            \n",
      " duration    | 1299             \n",
      " cancelled   | 0                \n",
      " star_rating | 5                \n",
      "-RECORD 2-----------------------\n",
      " id          | 3                \n",
      " driver_id   | 220200000214     \n",
      " rider_id    | 220200000489     \n",
      " date_time   | 2017-02-01 02:26 \n",
      " utc_offset  | -6               \n",
      " service     | Noir             \n",
      " origin_lat  | 46.868382        \n",
      " origin_lon  | -96.902718       \n",
      " dest_lat    | 46.815272        \n",
      " dest_lon    | -96.862056       \n",
      " distance    | 9362             \n",
      " duration    | 736              \n",
      " cancelled   | 0                \n",
      " star_rating | 5                \n",
      "-RECORD 3-----------------------\n",
      " id          | 4                \n",
      " driver_id   | 220200000067     \n",
      " rider_id    | 220200000057     \n",
      " date_time   | 2017-02-01 03:00 \n",
      " utc_offset  | -6               \n",
      " service     | null             \n",
      " origin_lat  | 46.908567        \n",
      " origin_lon  | -96.905391       \n",
      " dest_lat    | 46.90438         \n",
      " dest_lon    | -96.793999       \n",
      " distance    | 9060             \n",
      " duration    | 773              \n",
      " cancelled   | 0                \n",
      " star_rating | 5                \n",
      "-RECORD 4-----------------------\n",
      " id          | 5                \n",
      " driver_id   | 220200000067     \n",
      " rider_id    | 220200000012     \n",
      " date_time   | 2017-02-01 03:49 \n",
      " utc_offset  | -6               \n",
      " service     | null             \n",
      " origin_lat  | 46.895864        \n",
      " origin_lon  | -96.805807       \n",
      " dest_lat    | 46.86903         \n",
      " dest_lon    | -96.785232       \n",
      " distance    | 5076             \n",
      " duration    | 721              \n",
      " cancelled   | 0                \n",
      " star_rating | 5                \n",
      "only showing top 5 rows\n",
      "\n"
     ]
    }
   ],
   "source": [
    "rides.show(5)\n",
    "rides.show(5, truncate=5)\n",
    "rides.show(5, vertical=True)"
   ]
  },
  {
   "cell_type": "markdown",
   "metadata": {},
   "source": [
    "Call the `head` or `take` method to get a list of `Row` objects from a DataFrame:"
   ]
  },
  {
   "cell_type": "code",
   "execution_count": 11,
   "metadata": {},
   "outputs": [
    {
     "data": {
      "text/plain": [
       "[Row(id=1, driver_id=220200000214, rider_id=220200000084, date_time='2017-02-01 00:14', utc_offset=-6, service=None, origin_lat=46.850956, origin_lon=-96.902849, dest_lat=46.86005, dest_lon=-96.825442, distance=10123, duration=729, cancelled=0, star_rating=5),\n",
       " Row(id=2, driver_id=220200000107, rider_id=220200000462, date_time='2017-02-01 00:36', utc_offset=-6, service=None, origin_lat=46.900432, origin_lon=-96.765807, dest_lat=46.840588, dest_lon=-96.868087, distance=16043, duration=1299, cancelled=0, star_rating=5),\n",
       " Row(id=3, driver_id=220200000214, rider_id=220200000489, date_time='2017-02-01 02:26', utc_offset=-6, service='Noir', origin_lat=46.868382, origin_lon=-96.902718, dest_lat=46.815272, dest_lon=-96.862056, distance=9362, duration=736, cancelled=0, star_rating=5),\n",
       " Row(id=4, driver_id=220200000067, rider_id=220200000057, date_time='2017-02-01 03:00', utc_offset=-6, service=None, origin_lat=46.908567, origin_lon=-96.905391, dest_lat=46.90438, dest_lon=-96.793999, distance=9060, duration=773, cancelled=0, star_rating=5),\n",
       " Row(id=5, driver_id=220200000067, rider_id=220200000012, date_time='2017-02-01 03:49', utc_offset=-6, service=None, origin_lat=46.895864, origin_lon=-96.805807, dest_lat=46.86903, dest_lon=-96.785232, distance=5076, duration=721, cancelled=0, star_rating=5)]"
      ]
     },
     "execution_count": 11,
     "metadata": {},
     "output_type": "execute_result"
    }
   ],
   "source": [
    "rides.head(5)\n",
    "rides.take(5)"
   ]
  },
  {
   "cell_type": "markdown",
   "metadata": {},
   "source": [
    "### Some more"
   ]
  },
  {
   "cell_type": "code",
   "execution_count": 12,
   "metadata": {
    "scrolled": true
   },
   "outputs": [
    {
     "name": "stdout",
     "output_type": "stream",
     "text": [
      "root\n",
      " |-- id: integer (nullable = true)\n",
      " |-- driver_id: long (nullable = true)\n",
      " |-- rider_id: long (nullable = true)\n",
      " |-- date_time: string (nullable = true)\n",
      " |-- utc_offset: integer (nullable = true)\n",
      " |-- service: string (nullable = true)\n",
      " |-- origin_lat: double (nullable = true)\n",
      " |-- origin_lon: double (nullable = true)\n",
      " |-- dest_lat: double (nullable = true)\n",
      " |-- dest_lon: double (nullable = true)\n",
      " |-- distance: integer (nullable = true)\n",
      " |-- duration: integer (nullable = true)\n",
      " |-- cancelled: integer (nullable = true)\n",
      " |-- star_rating: integer (nullable = true)\n",
      "\n",
      "+---+------------+------------+----------------+----------+-------+----------+----------+---------+----------+--------+--------+---------+-----------+\n",
      "| id|   driver_id|    rider_id|       date_time|utc_offset|service|origin_lat|origin_lon| dest_lat|  dest_lon|distance|duration|cancelled|star_rating|\n",
      "+---+------------+------------+----------------+----------+-------+----------+----------+---------+----------+--------+--------+---------+-----------+\n",
      "|  1|220200000214|220200000084|2017-02-01 00:14|        -6|   null| 46.850956|-96.902849| 46.86005|-96.825442|   10123|     729|        0|          5|\n",
      "|  2|220200000107|220200000462|2017-02-01 00:36|        -6|   null| 46.900432|-96.765807|46.840588|-96.868087|   16043|    1299|        0|          5|\n",
      "|  3|220200000214|220200000489|2017-02-01 02:26|        -6|   Noir| 46.868382|-96.902718|46.815272|-96.862056|    9362|     736|        0|          5|\n",
      "|  4|220200000067|220200000057|2017-02-01 03:00|        -6|   null| 46.908567|-96.905391| 46.90438|-96.793999|    9060|     773|        0|          5|\n",
      "|  5|220200000067|220200000012|2017-02-01 03:49|        -6|   null| 46.895864|-96.805807| 46.86903|-96.785232|    5076|     721|        0|          5|\n",
      "+---+------------+------------+----------------+----------+-------+----------+----------+---------+----------+--------+--------+---------+-----------+\n",
      "\n",
      "+-------+------------------+-----------------+------------------+----------------+----------+-------+-------------------+-------------------+-------------------+-------------------+-----------------+------------------+---------+-----------+\n",
      "|summary|                id|        driver_id|          rider_id|       date_time|utc_offset|service|         origin_lat|         origin_lon|           dest_lat|           dest_lon|         distance|          duration|cancelled|star_rating|\n",
      "+-------+------------------+-----------------+------------------+----------------+----------+-------+-------------------+-------------------+-------------------+-------------------+-----------------+------------------+---------+-----------+\n",
      "|  count|                 5|                5|                 5|               5|         5|      1|                  5|                  5|                  5|                  5|                5|                 5|        5|          5|\n",
      "|   mean|               3.0|2.202000001338E11| 2.202000002208E11|            null|      -6.0|   null|         46.8848402| -96.85651440000001|          46.857864|        -96.8269632|           9932.8|             851.6|      0.0|        5.0|\n",
      "| stddev|1.5811388300841898|75.01133530809182|234.12112249859047|            null|       0.0|   null|0.02422086285003316|0.06608642573781737|0.03318785564028087|0.03792465267738241|3938.490154868995|250.89599438811294|      0.0|        0.0|\n",
      "|    min|                 1|     220200000067|      220200000012|2017-02-01 00:14|        -6|   Noir|          46.850956|         -96.905391|          46.815272|         -96.868087|             5076|               721|        0|          5|\n",
      "|    max|                 5|     220200000214|      220200000489|2017-02-01 03:49|        -6|   Noir|          46.908567|         -96.765807|           46.90438|         -96.785232|            16043|              1299|        0|          5|\n",
      "+-------+------------------+-----------------+------------------+----------------+----------+-------+-------------------+-------------------+-------------------+-------------------+-----------------+------------------+---------+-----------+\n",
      "\n"
     ]
    },
    {
     "data": {
      "text/html": [
       "<div>\n",
       "<style scoped>\n",
       "    .dataframe tbody tr th:only-of-type {\n",
       "        vertical-align: middle;\n",
       "    }\n",
       "\n",
       "    .dataframe tbody tr th {\n",
       "        vertical-align: top;\n",
       "    }\n",
       "\n",
       "    .dataframe thead th {\n",
       "        text-align: right;\n",
       "    }\n",
       "</style>\n",
       "<table border=\"1\" class=\"dataframe\">\n",
       "  <thead>\n",
       "    <tr style=\"text-align: right;\">\n",
       "      <th></th>\n",
       "      <th>summary</th>\n",
       "      <th>id</th>\n",
       "      <th>driver_id</th>\n",
       "      <th>rider_id</th>\n",
       "      <th>date_time</th>\n",
       "      <th>utc_offset</th>\n",
       "      <th>service</th>\n",
       "      <th>origin_lat</th>\n",
       "      <th>origin_lon</th>\n",
       "      <th>dest_lat</th>\n",
       "      <th>dest_lon</th>\n",
       "      <th>distance</th>\n",
       "      <th>duration</th>\n",
       "      <th>cancelled</th>\n",
       "      <th>star_rating</th>\n",
       "    </tr>\n",
       "  </thead>\n",
       "  <tbody>\n",
       "    <tr>\n",
       "      <th>0</th>\n",
       "      <td>count</td>\n",
       "      <td>5</td>\n",
       "      <td>5</td>\n",
       "      <td>5</td>\n",
       "      <td>5</td>\n",
       "      <td>5</td>\n",
       "      <td>1</td>\n",
       "      <td>5</td>\n",
       "      <td>5</td>\n",
       "      <td>5</td>\n",
       "      <td>5</td>\n",
       "      <td>5</td>\n",
       "      <td>5</td>\n",
       "      <td>5</td>\n",
       "      <td>5</td>\n",
       "    </tr>\n",
       "    <tr>\n",
       "      <th>1</th>\n",
       "      <td>mean</td>\n",
       "      <td>3.0</td>\n",
       "      <td>2.202000001338E11</td>\n",
       "      <td>2.202000002208E11</td>\n",
       "      <td>None</td>\n",
       "      <td>-6.0</td>\n",
       "      <td>None</td>\n",
       "      <td>46.8848402</td>\n",
       "      <td>-96.85651440000001</td>\n",
       "      <td>46.857864</td>\n",
       "      <td>-96.8269632</td>\n",
       "      <td>9932.8</td>\n",
       "      <td>851.6</td>\n",
       "      <td>0.0</td>\n",
       "      <td>5.0</td>\n",
       "    </tr>\n",
       "    <tr>\n",
       "      <th>2</th>\n",
       "      <td>stddev</td>\n",
       "      <td>1.5811388300841898</td>\n",
       "      <td>75.01133530809182</td>\n",
       "      <td>234.12112249859047</td>\n",
       "      <td>None</td>\n",
       "      <td>0.0</td>\n",
       "      <td>None</td>\n",
       "      <td>0.02422086285003316</td>\n",
       "      <td>0.06608642573781737</td>\n",
       "      <td>0.03318785564028087</td>\n",
       "      <td>0.03792465267738241</td>\n",
       "      <td>3938.490154868995</td>\n",
       "      <td>250.89599438811294</td>\n",
       "      <td>0.0</td>\n",
       "      <td>0.0</td>\n",
       "    </tr>\n",
       "    <tr>\n",
       "      <th>3</th>\n",
       "      <td>min</td>\n",
       "      <td>1</td>\n",
       "      <td>220200000067</td>\n",
       "      <td>220200000012</td>\n",
       "      <td>2017-02-01 00:14</td>\n",
       "      <td>-6</td>\n",
       "      <td>Noir</td>\n",
       "      <td>46.850956</td>\n",
       "      <td>-96.905391</td>\n",
       "      <td>46.815272</td>\n",
       "      <td>-96.868087</td>\n",
       "      <td>5076</td>\n",
       "      <td>721</td>\n",
       "      <td>0</td>\n",
       "      <td>5</td>\n",
       "    </tr>\n",
       "    <tr>\n",
       "      <th>4</th>\n",
       "      <td>max</td>\n",
       "      <td>5</td>\n",
       "      <td>220200000214</td>\n",
       "      <td>220200000489</td>\n",
       "      <td>2017-02-01 03:49</td>\n",
       "      <td>-6</td>\n",
       "      <td>Noir</td>\n",
       "      <td>46.908567</td>\n",
       "      <td>-96.765807</td>\n",
       "      <td>46.90438</td>\n",
       "      <td>-96.785232</td>\n",
       "      <td>16043</td>\n",
       "      <td>1299</td>\n",
       "      <td>0</td>\n",
       "      <td>5</td>\n",
       "    </tr>\n",
       "  </tbody>\n",
       "</table>\n",
       "</div>"
      ],
      "text/plain": [
       "  summary                  id          driver_id            rider_id  \\\n",
       "0   count                   5                  5                   5   \n",
       "1    mean                 3.0  2.202000001338E11   2.202000002208E11   \n",
       "2  stddev  1.5811388300841898  75.01133530809182  234.12112249859047   \n",
       "3     min                   1       220200000067        220200000012   \n",
       "4     max                   5       220200000214        220200000489   \n",
       "\n",
       "          date_time utc_offset service           origin_lat  \\\n",
       "0                 5          5       1                    5   \n",
       "1              None       -6.0    None           46.8848402   \n",
       "2              None        0.0    None  0.02422086285003316   \n",
       "3  2017-02-01 00:14         -6    Noir            46.850956   \n",
       "4  2017-02-01 03:49         -6    Noir            46.908567   \n",
       "\n",
       "            origin_lon             dest_lat             dest_lon  \\\n",
       "0                    5                    5                    5   \n",
       "1   -96.85651440000001            46.857864          -96.8269632   \n",
       "2  0.06608642573781737  0.03318785564028087  0.03792465267738241   \n",
       "3           -96.905391            46.815272           -96.868087   \n",
       "4           -96.765807             46.90438           -96.785232   \n",
       "\n",
       "            distance            duration cancelled star_rating  \n",
       "0                  5                   5         5           5  \n",
       "1             9932.8               851.6       0.0         5.0  \n",
       "2  3938.490154868995  250.89599438811294       0.0         0.0  \n",
       "3               5076                 721         0           5  \n",
       "4              16043                1299         0           5  "
      ]
     },
     "execution_count": 12,
     "metadata": {},
     "output_type": "execute_result"
    }
   ],
   "source": [
    "rides.printSchema()\n",
    "r5 = rides.limit(5)\n",
    "r5.show()\n",
    "rp = r5.toPandas()\n",
    "rp\n",
    "r5.describe().show()\n",
    "r5.describe().toPandas()"
   ]
  },
  {
   "cell_type": "markdown",
   "metadata": {},
   "source": [
    "### Stopping the application\n",
    "Call the `stop` method to stop the application:"
   ]
  },
  {
   "cell_type": "code",
   "execution_count": 13,
   "metadata": {},
   "outputs": [],
   "source": [
    "spark.stop()"
   ]
  },
  {
   "cell_type": "code",
   "execution_count": null,
   "metadata": {},
   "outputs": [],
   "source": []
  }
 ],
 "metadata": {
  "kernelspec": {
   "display_name": "Python 3",
   "language": "python",
   "name": "python3"
  },
  "language_info": {
   "codemirror_mode": {
    "name": "ipython",
    "version": 3
   },
   "file_extension": ".py",
   "mimetype": "text/x-python",
   "name": "python",
   "nbconvert_exporter": "python",
   "pygments_lexer": "ipython3",
   "version": "3.7.3"
  }
 },
 "nbformat": 4,
 "nbformat_minor": 4
}
