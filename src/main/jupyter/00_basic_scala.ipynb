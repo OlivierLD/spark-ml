{
 "cells": [
  {
   "cell_type": "markdown",
   "metadata": {},
   "source": [
    "# Basic scaffolding for Scala\n",
    "- Some dependencies (Almond has been installed with a specific Scala version, `2.12.12`)\n",
    "- Some imports"
   ]
  },
  {
   "cell_type": "code",
   "execution_count": 6,
   "metadata": {},
   "outputs": [
    {
     "data": {
      "text/plain": [
       "\u001b[32mimport \u001b[39m\u001b[36mcoursierapi._\n",
       "\u001b[39m\n",
       "\u001b[32mimport \u001b[39m\u001b[36mcoursier._\n",
       "\n",
       "\u001b[39m"
      ]
     },
     "execution_count": 6,
     "metadata": {},
     "output_type": "execute_result"
    }
   ],
   "source": [
    "import coursierapi._\n",
    "import coursier._\n",
    "\n",
    "interp.repositories() ++= Seq(\n",
    "  MavenRepository.of(\"https://nexus.corp.com/content/repositories/releases\")\n",
    ")\n",
    "interp.repositories() ++= Seq(\n",
    "  MavenRepository.of(\"https://mvnrepository.com/artifact\")\n",
    ")\n",
    "interp.repositories() ++= Seq(\n",
    "  MavenRepository.of(\"https://maven.imagej.net/content/repositories/public/\")\n",
    ")\n",
    "interp.repositories() ++= Seq(\n",
    "  MavenRepository.of(\"https://dl.bintray.com/cibotech/public\")\n",
    ")\n"
   ]
  },
  {
   "cell_type": "markdown",
   "metadata": {},
   "source": [
    "Interesting syntax for the lines below... Keep an eye on the `::` and `:`. That seems to impact the suffix, added or not to the resources. The suffix is the Scala version, `2.12` in this case, with which Almond has been explicitely installed (see the Dockerfile)."
   ]
  },
  {
   "cell_type": "code",
   "execution_count": 7,
   "metadata": {},
   "outputs": [
    {
     "data": {
      "text/plain": [
       "\u001b[32mimport \u001b[39m\u001b[36m$ivy.$                                       \n",
       "// import $ivy.`org.apache.spark:spark-core_2.12:3.0.1` \n",
       "\n",
       "// Other possible syntax, for the classpath...\n",
       "// import $cp.`/workdir/spark-3.0.1-bin-hadoop2.7-hive1.2/jars/spark-core_2.12-3.0.1.jar`\n",
       "// interp.load.cp(os.Path(\"/workdir/spark-3.0.1-bin-hadoop2.7-hive1.2/jars/spark-core_2.12-3.0.1.jar\"))\n",
       "// import $cp.`/workdir/spark-3.0.1-bin-hadoop2.7-hive1.2/jars/spark-sql_2.12-3.0.1.jar`\n",
       "// interp.load.cp(os.Path(\"/workdir/spark-3.0.1-bin-hadoop2.7-hive1.2/jars/*.jar\"))  // spark-sql_2.12-3.0.1.jar\"))\u001b[39m"
      ]
     },
     "execution_count": 7,
     "metadata": {},
     "output_type": "execute_result"
    }
   ],
   "source": [
    "interp.load.ivy(\"com.cibo\" %% \"evilplot-repl\" % \"0.8.0\")  // Adds a _2.13 suffix\n",
    "// import $ivy.`com.cibo::evilplot-repl:0.8.0`\n",
    "\n",
    "interp.load.ivy(\"org.scala-js\" %% \"scalajs-dom_sjs1\" % \"1.1.0\") // Adds a _suffix\n",
    "// interp.load.ivy(\"org.scala-js\" %% \"scalajs-library\" % \"1.2.0\") \n",
    "\n",
    "// interp.load.ivy(\"org.apache.spark\" %% \"spark-core\" % \"3.0.1\")  // Adds a suffix\n",
    "// interp.load.ivy(\"org.apache.spark\" %% \"spark-sql\" % \"3.0.1\")\n",
    "\n",
    "// import $ivy.`org.apache.spark::spark-sql:3.0.1` \n",
    "\n",
    "import $ivy.`org.apache.spark:spark-sql_2.12:3.0.1` \n",
    "// import $ivy.`org.apache.spark:spark-core_2.12:3.0.1` \n",
    "\n",
    "// Other possible syntax, for the classpath...\n",
    "// import $cp.`/workdir/spark-3.0.1-bin-hadoop2.7-hive1.2/jars/spark-core_2.12-3.0.1.jar`\n",
    "// interp.load.cp(os.Path(\"/workdir/spark-3.0.1-bin-hadoop2.7-hive1.2/jars/spark-core_2.12-3.0.1.jar\"))\n",
    "// import $cp.`/workdir/spark-3.0.1-bin-hadoop2.7-hive1.2/jars/spark-sql_2.12-3.0.1.jar`\n",
    "// interp.load.cp(os.Path(\"/workdir/spark-3.0.1-bin-hadoop2.7-hive1.2/jars/*.jar\"))  // spark-sql_2.12-3.0.1.jar\"))"
   ]
  },
  {
   "cell_type": "code",
   "execution_count": 8,
   "metadata": {},
   "outputs": [
    {
     "data": {
      "text/plain": [
       "\u001b[32mimport \u001b[39m\u001b[36morg.apache.spark.sql.SparkSession\n",
       "\u001b[39m\n",
       "\u001b[32mimport \u001b[39m\u001b[36morg.apache.spark.sql.Dataset\n",
       "\u001b[39m\n",
       "\u001b[32mimport \u001b[39m\u001b[36morg.apache.spark.sql.Row\u001b[39m"
      ]
     },
     "execution_count": 8,
     "metadata": {},
     "output_type": "execute_result"
    }
   ],
   "source": [
    "import org.apache.spark.sql.SparkSession\n",
    "import org.apache.spark.sql.Dataset\n",
    "import org.apache.spark.sql.Row"
   ]
  },
  {
   "cell_type": "markdown",
   "metadata": {},
   "source": [
    "Create a session"
   ]
  },
  {
   "cell_type": "code",
   "execution_count": 9,
   "metadata": {},
   "outputs": [
    {
     "name": "stderr",
     "output_type": "stream",
     "text": [
      "20/10/14 17:11:32 INFO SparkContext: Running Spark version 3.0.1\n",
      "20/10/14 17:11:32 INFO ResourceUtils: ==============================================================\n",
      "20/10/14 17:11:32 INFO ResourceUtils: Resources for spark.driver:\n",
      "\n",
      "20/10/14 17:11:32 INFO ResourceUtils: ==============================================================\n",
      "20/10/14 17:11:32 INFO SparkContext: Submitted application: SimpleApp\n",
      "20/10/14 17:11:32 INFO SecurityManager: Changing view acls to: root\n",
      "20/10/14 17:11:32 INFO SecurityManager: Changing modify acls to: root\n",
      "20/10/14 17:11:32 INFO SecurityManager: Changing view acls groups to: \n",
      "20/10/14 17:11:32 INFO SecurityManager: Changing modify acls groups to: \n",
      "20/10/14 17:11:32 INFO SecurityManager: SecurityManager: authentication disabled; ui acls disabled; users  with view permissions: Set(root); groups with view permissions: Set(); users  with modify permissions: Set(root); groups with modify permissions: Set()\n",
      "20/10/14 17:11:32 INFO Utils: Successfully started service 'sparkDriver' on port 34589.\n",
      "20/10/14 17:11:32 INFO SparkEnv: Registering MapOutputTracker\n",
      "20/10/14 17:11:32 INFO SparkEnv: Registering BlockManagerMaster\n",
      "20/10/14 17:11:32 INFO BlockManagerMasterEndpoint: Using org.apache.spark.storage.DefaultTopologyMapper for getting topology information\n",
      "20/10/14 17:11:32 INFO BlockManagerMasterEndpoint: BlockManagerMasterEndpoint up\n",
      "20/10/14 17:11:32 INFO SparkEnv: Registering BlockManagerMasterHeartbeat\n",
      "20/10/14 17:11:32 INFO DiskBlockManager: Created local directory at /tmp/blockmgr-d04f6a1b-b757-4f99-bd43-7acb3965ebf1\n",
      "20/10/14 17:11:32 INFO MemoryStore: MemoryStore started with capacity 3.3 GiB\n",
      "20/10/14 17:11:32 INFO SparkEnv: Registering OutputCommitCoordinator\n",
      "20/10/14 17:11:32 INFO Utils: Successfully started service 'SparkUI' on port 4040.\n",
      "20/10/14 17:11:32 INFO SparkUI: Bound SparkUI to 0.0.0.0, and started at http://df8ec3dd1862:4040\n",
      "20/10/14 17:11:32 INFO Executor: Starting executor ID driver on host df8ec3dd1862\n",
      "20/10/14 17:11:32 INFO Utils: Successfully started service 'org.apache.spark.network.netty.NettyBlockTransferService' on port 43695.\n",
      "20/10/14 17:11:32 INFO NettyBlockTransferService: Server created on df8ec3dd1862:43695\n",
      "20/10/14 17:11:32 INFO BlockManager: Using org.apache.spark.storage.RandomBlockReplicationPolicy for block replication policy\n",
      "20/10/14 17:11:32 INFO BlockManagerMaster: Registering BlockManager BlockManagerId(driver, df8ec3dd1862, 43695, None)\n",
      "20/10/14 17:11:32 INFO BlockManagerMasterEndpoint: Registering block manager df8ec3dd1862:43695 with 3.3 GiB RAM, BlockManagerId(driver, df8ec3dd1862, 43695, None)\n",
      "20/10/14 17:11:32 INFO BlockManagerMaster: Registered BlockManager BlockManagerId(driver, df8ec3dd1862, 43695, None)\n",
      "20/10/14 17:11:32 INFO BlockManager: Initialized BlockManager: BlockManagerId(driver, df8ec3dd1862, 43695, None)\n"
     ]
    },
    {
     "data": {
      "text/plain": [
       "\u001b[36mspark\u001b[39m: \u001b[32mSparkSession\u001b[39m = org.apache.spark.sql.SparkSession@45d54461"
      ]
     },
     "execution_count": 9,
     "metadata": {},
     "output_type": "execute_result"
    }
   ],
   "source": [
    "val spark: SparkSession = SparkSession.builder\n",
    "                                          .appName(\"SimpleApp\")\n",
    "                                          .config(\"spark.master\", \"local\")\n",
    "                                          // Scala may complain about memory (Java does not...) The following 2 will fix that.\n",
    "                                          // .config(\"spark.driver.memory\",  \"471859200\")\n",
    "                                          // .config(\"spark.testing.memory\", \"2147480000\")\n",
    "                                          .getOrCreate\n"
   ]
  },
  {
   "cell_type": "markdown",
   "metadata": {},
   "source": [
    "And free the resources!"
   ]
  },
  {
   "cell_type": "code",
   "execution_count": 10,
   "metadata": {},
   "outputs": [
    {
     "name": "stderr",
     "output_type": "stream",
     "text": [
      "20/10/14 17:11:40 INFO SparkUI: Stopped Spark web UI at http://df8ec3dd1862:4040\n",
      "20/10/14 17:11:40 INFO MapOutputTrackerMasterEndpoint: MapOutputTrackerMasterEndpoint stopped!\n",
      "20/10/14 17:11:40 INFO MemoryStore: MemoryStore cleared\n",
      "20/10/14 17:11:40 INFO BlockManager: BlockManager stopped\n",
      "20/10/14 17:11:40 INFO BlockManagerMaster: BlockManagerMaster stopped\n",
      "20/10/14 17:11:40 INFO OutputCommitCoordinator$OutputCommitCoordinatorEndpoint: OutputCommitCoordinator stopped!\n",
      "20/10/14 17:11:40 INFO SparkContext: Successfully stopped SparkContext\n"
     ]
    }
   ],
   "source": [
    "spark.close()"
   ]
  },
  {
   "cell_type": "markdown",
   "metadata": {},
   "source": [
    "Done for now"
   ]
  },
  {
   "cell_type": "code",
   "execution_count": null,
   "metadata": {},
   "outputs": [],
   "source": []
  }
 ],
 "metadata": {
  "kernelspec": {
   "display_name": "Scala",
   "language": "scala",
   "name": "scala"
  },
  "language_info": {
   "codemirror_mode": "text/x-scala",
   "file_extension": ".sc",
   "mimetype": "text/x-scala",
   "name": "scala",
   "nbconvert_exporter": "script",
   "version": "2.12.12"
  }
 },
 "nbformat": 4,
 "nbformat_minor": 4
}
