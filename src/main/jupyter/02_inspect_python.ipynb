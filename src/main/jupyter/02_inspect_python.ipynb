{
 "cells": [
  {
   "cell_type": "markdown",
   "metadata": {},
   "source": [
    "# Inspecting a Spark DataFrame\n",
    "### With graphics"
   ]
  },
  {
   "cell_type": "markdown",
   "metadata": {},
   "source": [
    "## Overview\n",
    "\n",
    "In this module we inspect our DataFrame more carefully.  In particular, we\n",
    "inspect columns that represent the following types of variables:\n",
    " \n",
    "- Primary key variable\n",
    "- Categorical variable\n",
    "- Continuous numerical variable\n",
    "- Date and time variable\n",
    " \n",
    "In the process, we introduce various Spark SQL functionality that we cover\n",
    "more formally in subsequent modules.\n",
    "\n",
    "\n",
    "## Create a SparkSession"
   ]
  },
  {
   "cell_type": "code",
   "execution_count": 4,
   "metadata": {},
   "outputs": [],
   "source": [
    "from pyspark.sql import SparkSession\n",
    "spark = SparkSession.builder.appName(\"inspect\").getOrCreate()"
   ]
  },
  {
   "cell_type": "markdown",
   "metadata": {},
   "source": [
    "## Read the raw ride data from HDFS to a Spark SQL DataFrame"
   ]
  },
  {
   "cell_type": "code",
   "execution_count": 5,
   "metadata": {},
   "outputs": [],
   "source": [
    "RIDES_PATH = \"file:///workdir/spark-3.0.1-bin-hadoop2.7-hive1.2/spark-ml/duocar/raw/rides\"\n",
    "rides = spark.read.csv(RIDES_PATH, header=True, inferSchema=True)"
   ]
  },
  {
   "cell_type": "markdown",
   "metadata": {},
   "source": [
    "## Inspecting a DataFrame"
   ]
  },
  {
   "cell_type": "code",
   "execution_count": 6,
   "metadata": {},
   "outputs": [
    {
     "name": "stdout",
     "output_type": "stream",
     "text": [
      "root\n",
      " |-- id: integer (nullable = true)\n",
      " |-- driver_id: long (nullable = true)\n",
      " |-- rider_id: long (nullable = true)\n",
      " |-- date_time: string (nullable = true)\n",
      " |-- utc_offset: integer (nullable = true)\n",
      " |-- service: string (nullable = true)\n",
      " |-- origin_lat: double (nullable = true)\n",
      " |-- origin_lon: double (nullable = true)\n",
      " |-- dest_lat: double (nullable = true)\n",
      " |-- dest_lon: double (nullable = true)\n",
      " |-- distance: integer (nullable = true)\n",
      " |-- duration: integer (nullable = true)\n",
      " |-- cancelled: integer (nullable = true)\n",
      " |-- star_rating: integer (nullable = true)\n",
      "\n"
     ]
    }
   ],
   "source": [
    "# Print the schema:\n",
    "rides.printSchema()"
   ]
  },
  {
   "cell_type": "markdown",
   "metadata": {},
   "source": [
    "Use the *pandas* library to display the DataFrame as a scrollable HTML table:"
   ]
  },
  {
   "cell_type": "code",
   "execution_count": 7,
   "metadata": {},
   "outputs": [
    {
     "data": {
      "application/vnd.dataresource+json": {
       "data": [
        {
         "cancelled": 0,
         "date_time": "2017-02-01 00:14",
         "dest_lat": 46.86005,
         "dest_lon": -96.825442,
         "distance": 10123,
         "driver_id": 220200000214,
         "duration": 729,
         "id": 1,
         "index": 0,
         "origin_lat": 46.850956,
         "origin_lon": -96.902849,
         "rider_id": 220200000084,
         "service": null,
         "star_rating": 5,
         "utc_offset": -6
        },
        {
         "cancelled": 0,
         "date_time": "2017-02-01 00:36",
         "dest_lat": 46.840588,
         "dest_lon": -96.868087,
         "distance": 16043,
         "driver_id": 220200000107,
         "duration": 1299,
         "id": 2,
         "index": 1,
         "origin_lat": 46.900432,
         "origin_lon": -96.765807,
         "rider_id": 220200000462,
         "service": null,
         "star_rating": 5,
         "utc_offset": -6
        },
        {
         "cancelled": 0,
         "date_time": "2017-02-01 02:26",
         "dest_lat": 46.815272,
         "dest_lon": -96.862056,
         "distance": 9362,
         "driver_id": 220200000214,
         "duration": 736,
         "id": 3,
         "index": 2,
         "origin_lat": 46.868382,
         "origin_lon": -96.902718,
         "rider_id": 220200000489,
         "service": "Noir",
         "star_rating": 5,
         "utc_offset": -6
        },
        {
         "cancelled": 0,
         "date_time": "2017-02-01 03:00",
         "dest_lat": 46.90438,
         "dest_lon": -96.793999,
         "distance": 9060,
         "driver_id": 220200000067,
         "duration": 773,
         "id": 4,
         "index": 3,
         "origin_lat": 46.908567,
         "origin_lon": -96.905391,
         "rider_id": 220200000057,
         "service": null,
         "star_rating": 5,
         "utc_offset": -6
        },
        {
         "cancelled": 0,
         "date_time": "2017-02-01 03:49",
         "dest_lat": 46.86903,
         "dest_lon": -96.785232,
         "distance": 5076,
         "driver_id": 220200000067,
         "duration": 721,
         "id": 5,
         "index": 4,
         "origin_lat": 46.895864,
         "origin_lon": -96.805807,
         "rider_id": 220200000012,
         "service": null,
         "star_rating": 5,
         "utc_offset": -6
        }
       ],
       "schema": {
        "fields": [
         {
          "name": "index",
          "type": "integer"
         },
         {
          "name": "id",
          "type": "integer"
         },
         {
          "name": "driver_id",
          "type": "integer"
         },
         {
          "name": "rider_id",
          "type": "integer"
         },
         {
          "name": "date_time",
          "type": "string"
         },
         {
          "name": "utc_offset",
          "type": "integer"
         },
         {
          "name": "service",
          "type": "string"
         },
         {
          "name": "origin_lat",
          "type": "number"
         },
         {
          "name": "origin_lon",
          "type": "number"
         },
         {
          "name": "dest_lat",
          "type": "number"
         },
         {
          "name": "dest_lon",
          "type": "number"
         },
         {
          "name": "distance",
          "type": "integer"
         },
         {
          "name": "duration",
          "type": "integer"
         },
         {
          "name": "cancelled",
          "type": "integer"
         },
         {
          "name": "star_rating",
          "type": "integer"
         }
        ],
        "pandas_version": "0.20.0",
        "primaryKey": [
         "index"
        ]
       }
      },
      "text/html": [
       "<div>\n",
       "<style scoped>\n",
       "    .dataframe tbody tr th:only-of-type {\n",
       "        vertical-align: middle;\n",
       "    }\n",
       "\n",
       "    .dataframe tbody tr th {\n",
       "        vertical-align: top;\n",
       "    }\n",
       "\n",
       "    .dataframe thead th {\n",
       "        text-align: right;\n",
       "    }\n",
       "</style>\n",
       "<table border=\"1\" class=\"dataframe\">\n",
       "  <thead>\n",
       "    <tr style=\"text-align: right;\">\n",
       "      <th></th>\n",
       "      <th>id</th>\n",
       "      <th>driver_id</th>\n",
       "      <th>rider_id</th>\n",
       "      <th>date_time</th>\n",
       "      <th>utc_offset</th>\n",
       "      <th>service</th>\n",
       "      <th>origin_lat</th>\n",
       "      <th>origin_lon</th>\n",
       "      <th>dest_lat</th>\n",
       "      <th>dest_lon</th>\n",
       "      <th>distance</th>\n",
       "      <th>duration</th>\n",
       "      <th>cancelled</th>\n",
       "      <th>star_rating</th>\n",
       "    </tr>\n",
       "  </thead>\n",
       "  <tbody>\n",
       "    <tr>\n",
       "      <th>0</th>\n",
       "      <td>1</td>\n",
       "      <td>220200000214</td>\n",
       "      <td>220200000084</td>\n",
       "      <td>2017-02-01 00:14</td>\n",
       "      <td>-6</td>\n",
       "      <td>None</td>\n",
       "      <td>46.850956</td>\n",
       "      <td>-96.902849</td>\n",
       "      <td>46.860050</td>\n",
       "      <td>-96.825442</td>\n",
       "      <td>10123</td>\n",
       "      <td>729</td>\n",
       "      <td>0</td>\n",
       "      <td>5</td>\n",
       "    </tr>\n",
       "    <tr>\n",
       "      <th>1</th>\n",
       "      <td>2</td>\n",
       "      <td>220200000107</td>\n",
       "      <td>220200000462</td>\n",
       "      <td>2017-02-01 00:36</td>\n",
       "      <td>-6</td>\n",
       "      <td>None</td>\n",
       "      <td>46.900432</td>\n",
       "      <td>-96.765807</td>\n",
       "      <td>46.840588</td>\n",
       "      <td>-96.868087</td>\n",
       "      <td>16043</td>\n",
       "      <td>1299</td>\n",
       "      <td>0</td>\n",
       "      <td>5</td>\n",
       "    </tr>\n",
       "    <tr>\n",
       "      <th>2</th>\n",
       "      <td>3</td>\n",
       "      <td>220200000214</td>\n",
       "      <td>220200000489</td>\n",
       "      <td>2017-02-01 02:26</td>\n",
       "      <td>-6</td>\n",
       "      <td>Noir</td>\n",
       "      <td>46.868382</td>\n",
       "      <td>-96.902718</td>\n",
       "      <td>46.815272</td>\n",
       "      <td>-96.862056</td>\n",
       "      <td>9362</td>\n",
       "      <td>736</td>\n",
       "      <td>0</td>\n",
       "      <td>5</td>\n",
       "    </tr>\n",
       "    <tr>\n",
       "      <th>3</th>\n",
       "      <td>4</td>\n",
       "      <td>220200000067</td>\n",
       "      <td>220200000057</td>\n",
       "      <td>2017-02-01 03:00</td>\n",
       "      <td>-6</td>\n",
       "      <td>None</td>\n",
       "      <td>46.908567</td>\n",
       "      <td>-96.905391</td>\n",
       "      <td>46.904380</td>\n",
       "      <td>-96.793999</td>\n",
       "      <td>9060</td>\n",
       "      <td>773</td>\n",
       "      <td>0</td>\n",
       "      <td>5</td>\n",
       "    </tr>\n",
       "    <tr>\n",
       "      <th>4</th>\n",
       "      <td>5</td>\n",
       "      <td>220200000067</td>\n",
       "      <td>220200000012</td>\n",
       "      <td>2017-02-01 03:49</td>\n",
       "      <td>-6</td>\n",
       "      <td>None</td>\n",
       "      <td>46.895864</td>\n",
       "      <td>-96.805807</td>\n",
       "      <td>46.869030</td>\n",
       "      <td>-96.785232</td>\n",
       "      <td>5076</td>\n",
       "      <td>721</td>\n",
       "      <td>0</td>\n",
       "      <td>5</td>\n",
       "    </tr>\n",
       "  </tbody>\n",
       "</table>\n",
       "</div>"
      ],
      "text/plain": [
       "   id     driver_id      rider_id         date_time  utc_offset service  \\\n",
       "0   1  220200000214  220200000084  2017-02-01 00:14          -6    None   \n",
       "1   2  220200000107  220200000462  2017-02-01 00:36          -6    None   \n",
       "2   3  220200000214  220200000489  2017-02-01 02:26          -6    Noir   \n",
       "3   4  220200000067  220200000057  2017-02-01 03:00          -6    None   \n",
       "4   5  220200000067  220200000012  2017-02-01 03:49          -6    None   \n",
       "\n",
       "   origin_lat  origin_lon   dest_lat   dest_lon  distance  duration  \\\n",
       "0   46.850956  -96.902849  46.860050 -96.825442     10123       729   \n",
       "1   46.900432  -96.765807  46.840588 -96.868087     16043      1299   \n",
       "2   46.868382  -96.902718  46.815272 -96.862056      9362       736   \n",
       "3   46.908567  -96.905391  46.904380 -96.793999      9060       773   \n",
       "4   46.895864  -96.805807  46.869030 -96.785232      5076       721   \n",
       "\n",
       "   cancelled  star_rating  \n",
       "0          0            5  \n",
       "1          0            5  \n",
       "2          0            5  \n",
       "3          0            5  \n",
       "4          0            5  "
      ]
     },
     "execution_count": 7,
     "metadata": {},
     "output_type": "execute_result"
    }
   ],
   "source": [
    "import pandas as pd\n",
    "pd.options.display.html.table_schema=True\n",
    "rides.limit(5).toPandas()"
   ]
  },
  {
   "cell_type": "markdown",
   "metadata": {},
   "source": [
    "**Note:** The `limit` method returns a DataFrame with the specified number of\n",
    "rows; the `toPandas` method returns a pandas DataFrame.\n",
    "\n",
    "Use the `describe` method to get basic summary statistics on each column:"
   ]
  },
  {
   "cell_type": "code",
   "execution_count": 8,
   "metadata": {},
   "outputs": [
    {
     "data": {
      "application/vnd.dataresource+json": {
       "data": [
        {
         "cancelled": "48775",
         "date_time": "48775",
         "dest_lat": "48775",
         "dest_lon": "48775",
         "distance": "45841",
         "driver_id": "48775",
         "duration": "45841",
         "id": "48775",
         "index": 0,
         "origin_lat": "48775",
         "origin_lon": "48775",
         "rider_id": "48775",
         "service": "17389",
         "star_rating": "45841",
         "summary": "count",
         "utc_offset": "48775"
        },
        {
         "cancelled": "0.06015376729882112",
         "date_time": null,
         "dest_lat": "46.86475293472024",
         "dest_lon": "-96.81545354413292",
         "distance": "8904.418948103226",
         "driver_id": "2.202000007939952E11",
         "duration": "687.0703736829475",
         "id": "24388.0",
         "index": 1,
         "origin_lat": "46.865850124940806",
         "origin_lon": "-96.81245391579934",
         "rider_id": "2.2020000080101028E11",
         "service": null,
         "star_rating": "4.2536812024170505",
         "summary": "mean",
         "utc_offset": "-5.338308559712968"
        },
        {
         "cancelled": "0.23777394875431898",
         "date_time": null,
         "dest_lat": "0.04211823662942229",
         "dest_lon": "0.09537454957127935",
         "distance": "8797.103315891003",
         "driver_id": "524.5246758760943",
         "duration": "361.46343912255486",
         "id": "14080.274026689489",
         "index": 2,
         "origin_lat": "0.05440340564555947",
         "origin_lon": "0.11446661790876063",
         "rider_id": "528.7220000512307",
         "service": null,
         "star_rating": "1.137272514286516",
         "summary": "stddev",
         "utc_offset": "0.4731389518881924"
        },
        {
         "cancelled": "0",
         "date_time": "2017-02-01 00:14",
         "dest_lat": "46.633395",
         "dest_lon": "-97.674931",
         "distance": "304",
         "driver_id": "220200000007",
         "duration": "28",
         "id": "1",
         "index": 3,
         "origin_lat": "46.633395",
         "origin_lon": "-97.674931",
         "rider_id": "220200000001",
         "service": "Elite",
         "star_rating": "0",
         "summary": "min",
         "utc_offset": "-6"
        },
        {
         "cancelled": "1",
         "date_time": "2017-04-22 23:58",
         "dest_lat": "47.237408",
         "dest_lon": "-96.178997",
         "distance": "92204",
         "driver_id": "220200002259",
         "duration": "3536",
         "id": "48775",
         "index": 4,
         "origin_lat": "47.237408",
         "origin_lon": "-96.178997",
         "rider_id": "220200002286",
         "service": "Noir",
         "star_rating": "5",
         "summary": "max",
         "utc_offset": "-5"
        }
       ],
       "schema": {
        "fields": [
         {
          "name": "index",
          "type": "integer"
         },
         {
          "name": "summary",
          "type": "string"
         },
         {
          "name": "id",
          "type": "string"
         },
         {
          "name": "driver_id",
          "type": "string"
         },
         {
          "name": "rider_id",
          "type": "string"
         },
         {
          "name": "date_time",
          "type": "string"
         },
         {
          "name": "utc_offset",
          "type": "string"
         },
         {
          "name": "service",
          "type": "string"
         },
         {
          "name": "origin_lat",
          "type": "string"
         },
         {
          "name": "origin_lon",
          "type": "string"
         },
         {
          "name": "dest_lat",
          "type": "string"
         },
         {
          "name": "dest_lon",
          "type": "string"
         },
         {
          "name": "distance",
          "type": "string"
         },
         {
          "name": "duration",
          "type": "string"
         },
         {
          "name": "cancelled",
          "type": "string"
         },
         {
          "name": "star_rating",
          "type": "string"
         }
        ],
        "pandas_version": "0.20.0",
        "primaryKey": [
         "index"
        ]
       }
      },
      "text/html": [
       "<div>\n",
       "<style scoped>\n",
       "    .dataframe tbody tr th:only-of-type {\n",
       "        vertical-align: middle;\n",
       "    }\n",
       "\n",
       "    .dataframe tbody tr th {\n",
       "        vertical-align: top;\n",
       "    }\n",
       "\n",
       "    .dataframe thead th {\n",
       "        text-align: right;\n",
       "    }\n",
       "</style>\n",
       "<table border=\"1\" class=\"dataframe\">\n",
       "  <thead>\n",
       "    <tr style=\"text-align: right;\">\n",
       "      <th></th>\n",
       "      <th>summary</th>\n",
       "      <th>id</th>\n",
       "      <th>driver_id</th>\n",
       "      <th>rider_id</th>\n",
       "      <th>date_time</th>\n",
       "      <th>utc_offset</th>\n",
       "      <th>service</th>\n",
       "      <th>origin_lat</th>\n",
       "      <th>origin_lon</th>\n",
       "      <th>dest_lat</th>\n",
       "      <th>dest_lon</th>\n",
       "      <th>distance</th>\n",
       "      <th>duration</th>\n",
       "      <th>cancelled</th>\n",
       "      <th>star_rating</th>\n",
       "    </tr>\n",
       "  </thead>\n",
       "  <tbody>\n",
       "    <tr>\n",
       "      <th>0</th>\n",
       "      <td>count</td>\n",
       "      <td>48775</td>\n",
       "      <td>48775</td>\n",
       "      <td>48775</td>\n",
       "      <td>48775</td>\n",
       "      <td>48775</td>\n",
       "      <td>17389</td>\n",
       "      <td>48775</td>\n",
       "      <td>48775</td>\n",
       "      <td>48775</td>\n",
       "      <td>48775</td>\n",
       "      <td>45841</td>\n",
       "      <td>45841</td>\n",
       "      <td>48775</td>\n",
       "      <td>45841</td>\n",
       "    </tr>\n",
       "    <tr>\n",
       "      <th>1</th>\n",
       "      <td>mean</td>\n",
       "      <td>24388.0</td>\n",
       "      <td>2.202000007939952E11</td>\n",
       "      <td>2.2020000080101028E11</td>\n",
       "      <td>None</td>\n",
       "      <td>-5.338308559712968</td>\n",
       "      <td>None</td>\n",
       "      <td>46.865850124940806</td>\n",
       "      <td>-96.81245391579934</td>\n",
       "      <td>46.86475293472024</td>\n",
       "      <td>-96.81545354413292</td>\n",
       "      <td>8904.418948103226</td>\n",
       "      <td>687.0703736829475</td>\n",
       "      <td>0.06015376729882112</td>\n",
       "      <td>4.2536812024170505</td>\n",
       "    </tr>\n",
       "    <tr>\n",
       "      <th>2</th>\n",
       "      <td>stddev</td>\n",
       "      <td>14080.274026689489</td>\n",
       "      <td>524.5246758760943</td>\n",
       "      <td>528.7220000512307</td>\n",
       "      <td>None</td>\n",
       "      <td>0.4731389518881924</td>\n",
       "      <td>None</td>\n",
       "      <td>0.05440340564555947</td>\n",
       "      <td>0.11446661790876063</td>\n",
       "      <td>0.04211823662942229</td>\n",
       "      <td>0.09537454957127935</td>\n",
       "      <td>8797.103315891003</td>\n",
       "      <td>361.46343912255486</td>\n",
       "      <td>0.23777394875431898</td>\n",
       "      <td>1.137272514286516</td>\n",
       "    </tr>\n",
       "    <tr>\n",
       "      <th>3</th>\n",
       "      <td>min</td>\n",
       "      <td>1</td>\n",
       "      <td>220200000007</td>\n",
       "      <td>220200000001</td>\n",
       "      <td>2017-02-01 00:14</td>\n",
       "      <td>-6</td>\n",
       "      <td>Elite</td>\n",
       "      <td>46.633395</td>\n",
       "      <td>-97.674931</td>\n",
       "      <td>46.633395</td>\n",
       "      <td>-97.674931</td>\n",
       "      <td>304</td>\n",
       "      <td>28</td>\n",
       "      <td>0</td>\n",
       "      <td>0</td>\n",
       "    </tr>\n",
       "    <tr>\n",
       "      <th>4</th>\n",
       "      <td>max</td>\n",
       "      <td>48775</td>\n",
       "      <td>220200002259</td>\n",
       "      <td>220200002286</td>\n",
       "      <td>2017-04-22 23:58</td>\n",
       "      <td>-5</td>\n",
       "      <td>Noir</td>\n",
       "      <td>47.237408</td>\n",
       "      <td>-96.178997</td>\n",
       "      <td>47.237408</td>\n",
       "      <td>-96.178997</td>\n",
       "      <td>92204</td>\n",
       "      <td>3536</td>\n",
       "      <td>1</td>\n",
       "      <td>5</td>\n",
       "    </tr>\n",
       "  </tbody>\n",
       "</table>\n",
       "</div>"
      ],
      "text/plain": [
       "  summary                  id             driver_id               rider_id  \\\n",
       "0   count               48775                 48775                  48775   \n",
       "1    mean             24388.0  2.202000007939952E11  2.2020000080101028E11   \n",
       "2  stddev  14080.274026689489     524.5246758760943      528.7220000512307   \n",
       "3     min                   1          220200000007           220200000001   \n",
       "4     max               48775          220200002259           220200002286   \n",
       "\n",
       "          date_time          utc_offset service           origin_lat  \\\n",
       "0             48775               48775   17389                48775   \n",
       "1              None  -5.338308559712968    None   46.865850124940806   \n",
       "2              None  0.4731389518881924    None  0.05440340564555947   \n",
       "3  2017-02-01 00:14                  -6   Elite            46.633395   \n",
       "4  2017-04-22 23:58                  -5    Noir            47.237408   \n",
       "\n",
       "            origin_lon             dest_lat             dest_lon  \\\n",
       "0                48775                48775                48775   \n",
       "1   -96.81245391579934    46.86475293472024   -96.81545354413292   \n",
       "2  0.11446661790876063  0.04211823662942229  0.09537454957127935   \n",
       "3           -97.674931            46.633395           -97.674931   \n",
       "4           -96.178997            47.237408           -96.178997   \n",
       "\n",
       "            distance            duration            cancelled  \\\n",
       "0              45841               45841                48775   \n",
       "1  8904.418948103226   687.0703736829475  0.06015376729882112   \n",
       "2  8797.103315891003  361.46343912255486  0.23777394875431898   \n",
       "3                304                  28                    0   \n",
       "4              92204                3536                    1   \n",
       "\n",
       "          star_rating  \n",
       "0               45841  \n",
       "1  4.2536812024170505  \n",
       "2   1.137272514286516  \n",
       "3                   0  \n",
       "4                   5  "
      ]
     },
     "execution_count": 8,
     "metadata": {},
     "output_type": "execute_result"
    }
   ],
   "source": [
    "rides.describe().toPandas()"
   ]
  },
  {
   "cell_type": "markdown",
   "metadata": {},
   "source": [
    "**Note:**  The `describe` method returns a DataFrame.\n",
    "\n",
    "\n",
    "## Inspecting a DataFrame column\n",
    "\n",
    "### Inspecting a primary key variable\n",
    "\n",
    "The `id` column represents a primary key variable:"
   ]
  },
  {
   "cell_type": "code",
   "execution_count": 9,
   "metadata": {},
   "outputs": [
    {
     "name": "stdout",
     "output_type": "stream",
     "text": [
      "+---+\n",
      "| id|\n",
      "+---+\n",
      "|  1|\n",
      "|  2|\n",
      "|  3|\n",
      "|  4|\n",
      "|  5|\n",
      "|  6|\n",
      "|  7|\n",
      "|  8|\n",
      "|  9|\n",
      "| 10|\n",
      "+---+\n",
      "only showing top 10 rows\n",
      "\n"
     ]
    }
   ],
   "source": [
    "rides.select(\"id\").show(10)"
   ]
  },
  {
   "cell_type": "markdown",
   "metadata": {},
   "source": [
    "**Note:** `select` is a DataFrame method that returns a DataFrame.\n",
    "\n",
    "The `id` column should be non-null and unique.  Count the number of missing\n",
    "(null) values:"
   ]
  },
  {
   "cell_type": "code",
   "execution_count": 10,
   "metadata": {},
   "outputs": [
    {
     "data": {
      "text/plain": [
       "0"
      ]
     },
     "execution_count": 10,
     "metadata": {},
     "output_type": "execute_result"
    }
   ],
   "source": [
    "rides.filter(rides.id.isNull()).count()"
   ]
  },
  {
   "cell_type": "markdown",
   "metadata": {},
   "source": [
    "**Note:** `filter` is a DataFrame method that returns a DataFrame consisting\n",
    "of the rows for which its argument is true.  `rides.id` is a Column object\n",
    "and `isNull` is a Column method.\n",
    "\n",
    "Count the number of rows:"
   ]
  },
  {
   "cell_type": "code",
   "execution_count": 11,
   "metadata": {},
   "outputs": [
    {
     "data": {
      "text/plain": [
       "48775"
      ]
     },
     "execution_count": 11,
     "metadata": {},
     "output_type": "execute_result"
    }
   ],
   "source": [
    "rides.count()"
   ]
  },
  {
   "cell_type": "markdown",
   "metadata": {},
   "source": [
    "Count the number of distinct values:"
   ]
  },
  {
   "cell_type": "code",
   "execution_count": 12,
   "metadata": {},
   "outputs": [
    {
     "data": {
      "text/plain": [
       "48775"
      ]
     },
     "execution_count": 12,
     "metadata": {},
     "output_type": "execute_result"
    }
   ],
   "source": [
    "rides.select(\"id\").distinct().count()"
   ]
  },
  {
   "cell_type": "markdown",
   "metadata": {},
   "source": [
    "Count the number of non-missing and distinct values using Column functions:"
   ]
  },
  {
   "cell_type": "code",
   "execution_count": 13,
   "metadata": {},
   "outputs": [
    {
     "name": "stdout",
     "output_type": "stream",
     "text": [
      "+--------+---------+------------------+\n",
      "|count(1)|count(id)|count(DISTINCT id)|\n",
      "+--------+---------+------------------+\n",
      "|   48775|    48775|             48775|\n",
      "+--------+---------+------------------+\n",
      "\n"
     ]
    }
   ],
   "source": [
    "from pyspark.sql.functions import count, countDistinct\n",
    "rides.select(count(\"*\"), count(\"id\"), countDistinct(\"id\")).show()"
   ]
  },
  {
   "cell_type": "markdown",
   "metadata": {},
   "source": [
    "We have been using the DataFrame API of Spark SQL.  To use the SQL API to\n",
    "count the number of non-missing and distinct values, first register the\n",
    "DataFrame as a *temporary view*:"
   ]
  },
  {
   "cell_type": "code",
   "execution_count": 14,
   "metadata": {},
   "outputs": [],
   "source": [
    "rides.createOrReplaceTempView(\"rides_view\")"
   ]
  },
  {
   "cell_type": "markdown",
   "metadata": {},
   "source": [
    "Then use the `sql` method to run a query:"
   ]
  },
  {
   "cell_type": "code",
   "execution_count": 15,
   "metadata": {},
   "outputs": [
    {
     "name": "stdout",
     "output_type": "stream",
     "text": [
      "+--------+---------+------------------+\n",
      "|count(1)|count(id)|count(DISTINCT id)|\n",
      "+--------+---------+------------------+\n",
      "|   48775|    48775|             48775|\n",
      "+--------+---------+------------------+\n",
      "\n"
     ]
    }
   ],
   "source": [
    "spark.sql(\"SELECT COUNT(*), COUNT(id), COUNT(DISTINCT id) FROM rides_view\").show()"
   ]
  },
  {
   "cell_type": "markdown",
   "metadata": {},
   "source": [
    "**Note:** The `sql` method returns a DataFrame.\n",
    "\n",
    "### Inspecting a categorical variable\n",
    "The `service` column represents a categorical variable:"
   ]
  },
  {
   "cell_type": "code",
   "execution_count": 16,
   "metadata": {},
   "outputs": [
    {
     "name": "stdout",
     "output_type": "stream",
     "text": [
      "+-------+\n",
      "|service|\n",
      "+-------+\n",
      "|   null|\n",
      "|   null|\n",
      "|   Noir|\n",
      "|   null|\n",
      "|   null|\n",
      "|   null|\n",
      "|   null|\n",
      "|   null|\n",
      "|   null|\n",
      "|   null|\n",
      "+-------+\n",
      "only showing top 10 rows\n",
      "\n"
     ]
    }
   ],
   "source": [
    "rides.select(\"service\").show(10)"
   ]
  },
  {
   "cell_type": "markdown",
   "metadata": {},
   "source": [
    "**Question:** What do the missing (null) values represent?\n",
    "\n",
    "Count the number of missing (null) values:"
   ]
  },
  {
   "cell_type": "code",
   "execution_count": 17,
   "metadata": {},
   "outputs": [
    {
     "data": {
      "text/plain": [
       "31386"
      ]
     },
     "execution_count": 17,
     "metadata": {},
     "output_type": "execute_result"
    }
   ],
   "source": [
    "rides.filter(rides.service.isNull()).count()"
   ]
  },
  {
   "cell_type": "markdown",
   "metadata": {},
   "source": [
    "Count the number of distinct values:"
   ]
  },
  {
   "cell_type": "code",
   "execution_count": 18,
   "metadata": {},
   "outputs": [
    {
     "data": {
      "text/plain": [
       "4"
      ]
     },
     "execution_count": 18,
     "metadata": {},
     "output_type": "execute_result"
    }
   ],
   "source": [
    "rides.select(\"service\").distinct().count()"
   ]
  },
  {
   "cell_type": "markdown",
   "metadata": {},
   "source": [
    "Print the distinct values:"
   ]
  },
  {
   "cell_type": "code",
   "execution_count": 19,
   "metadata": {},
   "outputs": [
    {
     "name": "stdout",
     "output_type": "stream",
     "text": [
      "+-------+\n",
      "|service|\n",
      "+-------+\n",
      "|   null|\n",
      "|  Grand|\n",
      "|  Elite|\n",
      "|   Noir|\n",
      "+-------+\n",
      "\n"
     ]
    }
   ],
   "source": [
    "rides.select(\"service\").distinct().show()"
   ]
  },
  {
   "cell_type": "markdown",
   "metadata": {},
   "source": [
    "Count the number of rides by service:"
   ]
  },
  {
   "cell_type": "code",
   "execution_count": 20,
   "metadata": {},
   "outputs": [
    {
     "name": "stdout",
     "output_type": "stream",
     "text": [
      "+-------+-----+\n",
      "|service|count|\n",
      "+-------+-----+\n",
      "|   null|31386|\n",
      "|  Grand| 6197|\n",
      "|  Elite| 2109|\n",
      "|   Noir| 9083|\n",
      "+-------+-----+\n",
      "\n"
     ]
    }
   ],
   "source": [
    "rides.groupby(\"service\").count().show()"
   ]
  },
  {
   "cell_type": "markdown",
   "metadata": {},
   "source": [
    "Use the SQL API to count the number of rides by service:"
   ]
  },
  {
   "cell_type": "code",
   "execution_count": 21,
   "metadata": {},
   "outputs": [
    {
     "name": "stdout",
     "output_type": "stream",
     "text": [
      "+-------+--------+\n",
      "|service|count(1)|\n",
      "+-------+--------+\n",
      "|   null|   31386|\n",
      "|  Grand|    6197|\n",
      "|  Elite|    2109|\n",
      "|   Noir|    9083|\n",
      "+-------+--------+\n",
      "\n"
     ]
    }
   ],
   "source": [
    "spark.sql(\"SELECT service, COUNT(*) FROM rides_view GROUP BY service\").show()"
   ]
  },
  {
   "cell_type": "markdown",
   "metadata": {},
   "source": [
    "Use pandas to plot the number of rides by service:"
   ]
  },
  {
   "cell_type": "code",
   "execution_count": 22,
   "metadata": {},
   "outputs": [
    {
     "data": {
      "text/plain": [
       "<AxesSubplot:xlabel='service'>"
      ]
     },
     "execution_count": 22,
     "metadata": {},
     "output_type": "execute_result"
    },
    {
     "data": {
      "image/png": "[encoded data removed]",
      "text/plain": [
       "<Figure size 432x288 with 1 Axes>"
      ]
     },
     "metadata": {
      "needs_background": "light"
     },
     "output_type": "display_data"
    }
   ],
   "source": [
    "rides.groupby(\"service\").count().toPandas().plot(x=\"service\", y=\"count\", kind=\"bar\")"
   ]
  },
  {
   "cell_type": "markdown",
   "metadata": {},
   "source": [
    "### Inspecting a numerical variable\n",
    "\n",
    "The `distance` column represents a numerical variable (stored as an integer):"
   ]
  },
  {
   "cell_type": "code",
   "execution_count": 23,
   "metadata": {},
   "outputs": [
    {
     "name": "stdout",
     "output_type": "stream",
     "text": [
      "+--------+\n",
      "|distance|\n",
      "+--------+\n",
      "|   10123|\n",
      "|   16043|\n",
      "|    9362|\n",
      "|    9060|\n",
      "|    5076|\n",
      "|    4683|\n",
      "|    6230|\n",
      "|    3824|\n",
      "|    1366|\n",
      "|   10510|\n",
      "+--------+\n",
      "only showing top 10 rows\n",
      "\n"
     ]
    }
   ],
   "source": [
    "rides.select(\"distance\").show(10)"
   ]
  },
  {
   "cell_type": "markdown",
   "metadata": {},
   "source": [
    "Use the `describe` method to compute basic summary statistics:"
   ]
  },
  {
   "cell_type": "code",
   "execution_count": 24,
   "metadata": {},
   "outputs": [
    {
     "name": "stdout",
     "output_type": "stream",
     "text": [
      "+-------+-----------------+\n",
      "|summary|         distance|\n",
      "+-------+-----------------+\n",
      "|  count|            45841|\n",
      "|   mean|8904.418948103226|\n",
      "| stddev|8797.103315891003|\n",
      "|    min|              304|\n",
      "|    max|            92204|\n",
      "+-------+-----------------+\n",
      "\n"
     ]
    }
   ],
   "source": [
    "rides.describe(\"distance\").show()"
   ]
  },
  {
   "cell_type": "markdown",
   "metadata": {},
   "source": [
    "**Question:** Are there any missing (null) values?\n",
    "\n",
    "Use the `approxQuantile` method to get customized quantiles:"
   ]
  },
  {
   "cell_type": "code",
   "execution_count": 25,
   "metadata": {},
   "outputs": [
    {
     "data": {
      "text/plain": [
       "[304.0, 3953.0, 6730.0, 10821.0, 92204.0]"
      ]
     },
     "execution_count": 25,
     "metadata": {},
     "output_type": "execute_result"
    }
   ],
   "source": [
    "rides.approxQuantile(\"distance\", \\\n",
    "                     probabilities=[0.0, 0.25, 0.5, 0.75, 1.0], \\\n",
    "                     relativeError=1e-5)"
   ]
  },
  {
   "cell_type": "markdown",
   "metadata": {},
   "source": [
    "**Note:** The `approxQuantile` method returns a Python list.\n",
    "\n",
    "**Question:** Why does Spark produce approximate quantiles?\n",
    "\n",
    "See the documentation for more details:"
   ]
  },
  {
   "cell_type": "code",
   "execution_count": 26,
   "metadata": {},
   "outputs": [],
   "source": [
    "rides.approxQuantile?"
   ]
  },
  {
   "cell_type": "markdown",
   "metadata": {},
   "source": [
    "Use pandas to plot a basic histogram:"
   ]
  },
  {
   "cell_type": "code",
   "execution_count": 27,
   "metadata": {},
   "outputs": [
    {
     "data": {
      "text/plain": [
       "<AxesSubplot:ylabel='Frequency'>"
      ]
     },
     "execution_count": 27,
     "metadata": {},
     "output_type": "execute_result"
    },
    {
     "data": {
      "image/png": "[encoded data removed]",
      "text/plain": [
       "<Figure size 432x288 with 1 Axes>"
      ]
     },
     "metadata": {
      "needs_background": "light"
     },
     "output_type": "display_data"
    }
   ],
   "source": [
    "rides.select(\"distance\").toPandas().plot(kind=\"hist\")"
   ]
  },
  {
   "cell_type": "markdown",
   "metadata": {},
   "source": [
    "**Warning:** `toPandas()` is dangerous in the Spark world.  Why?\n",
    " \n",
    "\n",
    "### Inspecting a date and time variable\n",
    "\n",
    "The `date_time` column represents a date and time variable:"
   ]
  },
  {
   "cell_type": "code",
   "execution_count": 28,
   "metadata": {},
   "outputs": [
    {
     "name": "stdout",
     "output_type": "stream",
     "text": [
      "+----------------+\n",
      "|       date_time|\n",
      "+----------------+\n",
      "|2017-02-01 00:14|\n",
      "|2017-02-01 00:36|\n",
      "|2017-02-01 02:26|\n",
      "|2017-02-01 03:00|\n",
      "|2017-02-01 03:49|\n",
      "|2017-02-01 03:53|\n",
      "|2017-02-01 04:13|\n",
      "|2017-02-01 04:28|\n",
      "|2017-02-01 04:43|\n",
      "|2017-02-01 05:01|\n",
      "+----------------+\n",
      "only showing top 10 rows\n",
      "\n"
     ]
    }
   ],
   "source": [
    "rides.select(\"date_time\").show(10)"
   ]
  },
  {
   "cell_type": "markdown",
   "metadata": {},
   "source": [
    "However, Spark read it in as a string:"
   ]
  },
  {
   "cell_type": "code",
   "execution_count": 29,
   "metadata": {},
   "outputs": [
    {
     "name": "stdout",
     "output_type": "stream",
     "text": [
      "root\n",
      " |-- date_time: string (nullable = true)\n",
      "\n"
     ]
    }
   ],
   "source": [
    "rides.select(\"date_time\").printSchema()"
   ]
  },
  {
   "cell_type": "markdown",
   "metadata": {},
   "source": [
    "Use the `cast` method to convert it to a timestamp:"
   ]
  },
  {
   "cell_type": "code",
   "execution_count": 30,
   "metadata": {},
   "outputs": [
    {
     "name": "stdout",
     "output_type": "stream",
     "text": [
      "+----------------+-------------------+\n",
      "|       date_time|    date_time_fixed|\n",
      "+----------------+-------------------+\n",
      "|2017-02-01 00:14|2017-02-01 00:14:00|\n",
      "|2017-02-01 00:36|2017-02-01 00:36:00|\n",
      "|2017-02-01 02:26|2017-02-01 02:26:00|\n",
      "|2017-02-01 03:00|2017-02-01 03:00:00|\n",
      "|2017-02-01 03:49|2017-02-01 03:49:00|\n",
      "+----------------+-------------------+\n",
      "only showing top 5 rows\n",
      "\n"
     ]
    }
   ],
   "source": [
    "dates = rides.select(\"date_time\", rides.date_time.cast(\"timestamp\").alias(\"date_time_fixed\"))\n",
    "dates.show(5)"
   ]
  },
  {
   "cell_type": "markdown",
   "metadata": {},
   "source": [
    "Note that timestamps are represented by Python `datetime` objects:"
   ]
  },
  {
   "cell_type": "code",
   "execution_count": 31,
   "metadata": {},
   "outputs": [
    {
     "data": {
      "text/plain": [
       "[Row(date_time='2017-02-01 00:14', date_time_fixed=datetime.datetime(2017, 2, 1, 0, 14)),\n",
       " Row(date_time='2017-02-01 00:36', date_time_fixed=datetime.datetime(2017, 2, 1, 0, 36)),\n",
       " Row(date_time='2017-02-01 02:26', date_time_fixed=datetime.datetime(2017, 2, 1, 2, 26)),\n",
       " Row(date_time='2017-02-01 03:00', date_time_fixed=datetime.datetime(2017, 2, 1, 3, 0)),\n",
       " Row(date_time='2017-02-01 03:49', date_time_fixed=datetime.datetime(2017, 2, 1, 3, 49))]"
      ]
     },
     "execution_count": 31,
     "metadata": {},
     "output_type": "execute_result"
    }
   ],
   "source": [
    "dates.head(5)"
   ]
  },
  {
   "cell_type": "markdown",
   "metadata": {},
   "source": [
    "Note that the `describe` method does not generate summary statistics for date\n",
    "and time variables (unless they are represented as strings):"
   ]
  },
  {
   "cell_type": "code",
   "execution_count": 32,
   "metadata": {},
   "outputs": [
    {
     "name": "stdout",
     "output_type": "stream",
     "text": [
      "+-------+----------------+\n",
      "|summary|       date_time|\n",
      "+-------+----------------+\n",
      "|  count|           48775|\n",
      "|   mean|            null|\n",
      "| stddev|            null|\n",
      "|    min|2017-02-01 00:14|\n",
      "|    max|2017-04-22 23:58|\n",
      "+-------+----------------+\n",
      "\n"
     ]
    }
   ],
   "source": [
    "dates.describe().show(5)"
   ]
  },
  {
   "cell_type": "code",
   "execution_count": 33,
   "metadata": {},
   "outputs": [],
   "source": [
    "# Execrcices here?"
   ]
  },
  {
   "cell_type": "markdown",
   "metadata": {},
   "source": [
    "## Cleanup"
   ]
  },
  {
   "cell_type": "code",
   "execution_count": 34,
   "metadata": {},
   "outputs": [],
   "source": [
    "# Stop the SparkSession:\n",
    "spark.stop()"
   ]
  },
  {
   "cell_type": "code",
   "execution_count": null,
   "metadata": {},
   "outputs": [],
   "source": []
  }
 ],
 "metadata": {
  "kernelspec": {
   "display_name": "Python 3",
   "language": "python",
   "name": "python3"
  },
  "language_info": {
   "codemirror_mode": {
    "name": "ipython",
    "version": 3
   },
   "file_extension": ".py",
   "mimetype": "text/x-python",
   "name": "python",
   "nbconvert_exporter": "python",
   "pygments_lexer": "ipython3",
   "version": "3.7.3"
  }
 },
 "nbformat": 4,
 "nbformat_minor": 4
}
