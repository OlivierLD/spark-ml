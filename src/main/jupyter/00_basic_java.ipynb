{
 "cells": [
  {
   "cell_type": "markdown",
   "metadata": {},
   "source": [
    "# Basic validation, in Java"
   ]
  },
  {
   "cell_type": "markdown",
   "metadata": {},
   "source": [
    "Classpath and imports. Classpath can be relative."
   ]
  },
  {
   "cell_type": "code",
   "execution_count": 1,
   "metadata": {},
   "outputs": [],
   "source": [
    "%classpath add jar /workdir/spark-3.0.1-bin-hadoop2.7-hive1.2/jars/*.jar\n",
    "\n",
    "import org.apache.spark.sql.*;"
   ]
  },
  {
   "cell_type": "markdown",
   "metadata": {},
   "source": [
    "Create a Spark Session"
   ]
  },
  {
   "cell_type": "code",
   "execution_count": 6,
   "metadata": {},
   "outputs": [
    {
     "name": "stderr",
     "output_type": "stream",
     "text": [
      "20/10/13 16:29:16 INFO SparkContext: Running Spark version 3.0.1\n",
      "20/10/13 16:29:16 INFO ResourceUtils: ==============================================================\n",
      "20/10/13 16:29:16 INFO ResourceUtils: Resources for spark.driver:\n",
      "\n",
      "20/10/13 16:29:16 INFO ResourceUtils: ==============================================================\n",
      "20/10/13 16:29:16 INFO SparkContext: Submitted application: SimpleApp\n",
      "20/10/13 16:29:16 INFO SecurityManager: Changing view acls to: root\n",
      "20/10/13 16:29:16 INFO SecurityManager: Changing modify acls to: root\n",
      "20/10/13 16:29:16 INFO SecurityManager: Changing view acls groups to: \n",
      "20/10/13 16:29:16 INFO SecurityManager: Changing modify acls groups to: \n",
      "20/10/13 16:29:16 INFO SecurityManager: SecurityManager: authentication disabled; ui acls disabled; users  with view permissions: Set(root); groups with view permissions: Set(); users  with modify permissions: Set(root); groups with modify permissions: Set()\n",
      "20/10/13 16:29:16 INFO Utils: Successfully started service 'sparkDriver' on port 44829.\n",
      "20/10/13 16:29:16 INFO SparkEnv: Registering MapOutputTracker\n",
      "20/10/13 16:29:16 INFO SparkEnv: Registering BlockManagerMaster\n",
      "20/10/13 16:29:16 INFO BlockManagerMasterEndpoint: Using org.apache.spark.storage.DefaultTopologyMapper for getting topology information\n",
      "20/10/13 16:29:16 INFO BlockManagerMasterEndpoint: BlockManagerMasterEndpoint up\n",
      "20/10/13 16:29:16 INFO SparkEnv: Registering BlockManagerMasterHeartbeat\n",
      "20/10/13 16:29:16 INFO DiskBlockManager: Created local directory at /tmp/blockmgr-59d026e7-1143-4e76-ba01-d2798e17563e\n",
      "20/10/13 16:29:16 INFO MemoryStore: MemoryStore started with capacity 3.3 GiB\n",
      "20/10/13 16:29:16 INFO SparkEnv: Registering OutputCommitCoordinator\n",
      "20/10/13 16:29:16 INFO Utils: Successfully started service 'SparkUI' on port 4040.\n",
      "20/10/13 16:29:16 INFO SparkUI: Bound SparkUI to 0.0.0.0, and started at http://69579f3067bb:4040\n",
      "20/10/13 16:29:16 INFO Executor: Starting executor ID driver on host 69579f3067bb\n",
      "20/10/13 16:29:16 INFO Utils: Successfully started service 'org.apache.spark.network.netty.NettyBlockTransferService' on port 34029.\n",
      "20/10/13 16:29:16 INFO NettyBlockTransferService: Server created on 69579f3067bb:34029\n",
      "20/10/13 16:29:16 INFO BlockManager: Using org.apache.spark.storage.RandomBlockReplicationPolicy for block replication policy\n",
      "20/10/13 16:29:16 INFO BlockManagerMaster: Registering BlockManager BlockManagerId(driver, 69579f3067bb, 34029, None)\n",
      "20/10/13 16:29:16 INFO BlockManagerMasterEndpoint: Registering block manager 69579f3067bb:34029 with 3.3 GiB RAM, BlockManagerId(driver, 69579f3067bb, 34029, None)\n",
      "20/10/13 16:29:16 INFO BlockManagerMaster: Registered BlockManager BlockManagerId(driver, 69579f3067bb, 34029, None)\n",
      "20/10/13 16:29:16 INFO BlockManager: Initialized BlockManager: BlockManagerId(driver, 69579f3067bb, 34029, None)\n"
     ]
    }
   ],
   "source": [
    "SparkSession spark = SparkSession.builder()\n",
    "                .appName(\"SimpleApp\")\n",
    "                .config(\"spark.master\", \"local\")\n",
    "                .getOrCreate();"
   ]
  },
  {
   "cell_type": "code",
   "execution_count": 7,
   "metadata": {},
   "outputs": [
    {
     "name": "stdout",
     "output_type": "stream",
     "text": [
      "Spark version: 3.0.1\n"
     ]
    }
   ],
   "source": [
    "System.out.println(String.format(\"Spark version: %s\", spark.version()));"
   ]
  },
  {
   "cell_type": "markdown",
   "metadata": {},
   "source": [
    "Release resources"
   ]
  },
  {
   "cell_type": "code",
   "execution_count": 8,
   "metadata": {},
   "outputs": [
    {
     "name": "stderr",
     "output_type": "stream",
     "text": [
      "20/10/13 16:29:33 INFO SparkUI: Stopped Spark web UI at http://69579f3067bb:4040\n",
      "20/10/13 16:29:33 INFO MapOutputTrackerMasterEndpoint: MapOutputTrackerMasterEndpoint stopped!\n",
      "20/10/13 16:29:33 INFO MemoryStore: MemoryStore cleared\n",
      "20/10/13 16:29:33 INFO BlockManager: BlockManager stopped\n",
      "20/10/13 16:29:33 INFO BlockManagerMaster: BlockManagerMaster stopped\n",
      "20/10/13 16:29:33 INFO OutputCommitCoordinator$OutputCommitCoordinatorEndpoint: OutputCommitCoordinator stopped!\n",
      "20/10/13 16:29:33 INFO SparkContext: Successfully stopped SparkContext\n"
     ]
    }
   ],
   "source": [
    "spark.close();"
   ]
  },
  {
   "cell_type": "code",
   "execution_count": null,
   "metadata": {},
   "outputs": [],
   "source": []
  }
 ],
 "metadata": {
  "kernelspec": {
   "display_name": "Java",
   "language": "java",
   "name": "java"
  },
  "language_info": {
   "codemirror_mode": "java",
   "file_extension": ".jshell",
   "mimetype": "text/x-java-source",
   "name": "Java",
   "pygments_lexer": "java",
   "version": "11.0.8+10-post-Debian-1deb10u1"
  }
 },
 "nbformat": 4,
 "nbformat_minor": 4
}