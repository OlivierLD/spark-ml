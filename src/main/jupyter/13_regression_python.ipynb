{
 "cells": [
  {
   "cell_type": "markdown",
   "metadata": {},
   "source": [
    "# Spark & Python\n",
    "# Fitting and Evaluating Regression Models\n",
    "\n",
    "## Introduction\n",
    "\n",
    "* A regression algorithm is a supervised learning algorithm.\n",
    "    * The inputs are called *features*\n",
    "    * The output is called the *label*\n",
    "\n",
    "* A regression model provides a prediction of a continuous numerical label.\n",
    "\n",
    "* Spark MLlib provides several regression algorithms:\n",
    "   * Linear Regression (with Elastic Net, Lasso, and Ridge Regression)\n",
    "   * Isotonic Regression\n",
    "   * Decision Tree\n",
    "   * Random Forest\n",
    "   * Gradient-Boosted Trees\n",
    "\n",
    "* Spark MLlib also provides regression algorithms for special types of continuous numerical labels:\n",
    "   * Generalized Regression\n",
    "   * Survival Regression\n",
    "\n",
    "* Spark MLlib requires the features to be assembled into a vector of doubles column.\n",
    "\n",
    "\n",
    "## Scenario\n",
    "\n",
    "We will build a regression model to predict the duration of a ride from\n",
    "the distance of the ride.  We can then use this regression model in our\n",
    "mobile application to provide a real-time estimate of arrival time.\n",
    "In the demonstration, we will use linear regression.  In the exercise, we will\n",
    "use isotonic regression.\n"
   ]
  },
  {
   "cell_type": "markdown",
   "metadata": {},
   "source": [
    "## Setup"
   ]
  },
  {
   "cell_type": "code",
   "execution_count": 1,
   "metadata": {},
   "outputs": [],
   "source": [
    "import numpy as np\n",
    "import pandas as pd\n",
    "import matplotlib.pyplot as plt"
   ]
  },
  {
   "cell_type": "markdown",
   "metadata": {},
   "source": [
    "## Start a SparkSession"
   ]
  },
  {
   "cell_type": "code",
   "execution_count": 2,
   "metadata": {},
   "outputs": [],
   "source": [
    "from pyspark.sql import SparkSession\n",
    "spark = SparkSession.builder.appName(\"regress\").getOrCreate()"
   ]
  },
  {
   "cell_type": "markdown",
   "metadata": {},
   "source": [
    "## Load the data"
   ]
  },
  {
   "cell_type": "code",
   "execution_count": 3,
   "metadata": {},
   "outputs": [
    {
     "name": "stdout",
     "output_type": "stream",
     "text": [
      "root\n",
      " |-- id: string (nullable = true)\n",
      " |-- driver_id: string (nullable = true)\n",
      " |-- rider_id: string (nullable = true)\n",
      " |-- date_time: timestamp (nullable = true)\n",
      " |-- utc_offset: integer (nullable = true)\n",
      " |-- service: string (nullable = true)\n",
      " |-- origin_lat: decimal(9,6) (nullable = true)\n",
      " |-- origin_lon: decimal(9,6) (nullable = true)\n",
      " |-- dest_lat: decimal(9,6) (nullable = true)\n",
      " |-- dest_lon: decimal(9,6) (nullable = true)\n",
      " |-- distance: integer (nullable = true)\n",
      " |-- duration: integer (nullable = true)\n",
      " |-- cancelled: boolean (nullable = true)\n",
      " |-- star_rating: integer (nullable = true)\n",
      "\n"
     ]
    }
   ],
   "source": [
    "# Read the (clean) ride data from the file system here:\n",
    "rides = spark.read.parquet(\"file:///workdir/spark-3.0.1-bin-hadoop2.7-hive1.2/spark-ml/duocar/clean/rides/\")\n",
    "rides.printSchema()\n"
   ]
  },
  {
   "cell_type": "markdown",
   "metadata": {},
   "source": [
    "## Prepare the regression data\n",
    "\n",
    "Select the feature (x) and the label (y) and filter out the cancelled rides:\n"
   ]
  },
  {
   "cell_type": "code",
   "execution_count": 4,
   "metadata": {},
   "outputs": [],
   "source": [
    "regression_data = rides.select(\"distance\", \"duration\").filter(\"cancelled = 0\")"
   ]
  },
  {
   "cell_type": "markdown",
   "metadata": {},
   "source": [
    "## Plot the data\n",
    "\n",
    "Plot the ride duration versus the ride distance on a random sample of rides using pandas:"
   ]
  },
  {
   "cell_type": "code",
   "execution_count": 5,
   "metadata": {},
   "outputs": [
    {
     "data": {
      "text/plain": [
       "<AxesSubplot:xlabel='distance', ylabel='duration'>"
      ]
     },
     "execution_count": 5,
     "metadata": {},
     "output_type": "execute_result"
    },
    {
     "data": {
      "image/png": "[encoded data removed]",
      "text/plain": [
       "<Figure size 432x288 with 1 Axes>"
      ]
     },
     "metadata": {
      "needs_background": "light"
     },
     "output_type": "display_data"
    }
   ],
   "source": [
    "regression_data \\\n",
    "  .sample(withReplacement=False, fraction=0.1, seed=12345) \\\n",
    "  .toPandas() \\\n",
    "  .plot.scatter(x=\"distance\", y=\"duration\")"
   ]
  },
  {
   "cell_type": "markdown",
   "metadata": {},
   "source": [
    "## Assemble the feature vector\n",
    "\n",
    "Import the `VectorAssembler` class from the `pyspark.ml.feature` module:"
   ]
  },
  {
   "cell_type": "code",
   "execution_count": 6,
   "metadata": {},
   "outputs": [],
   "source": [
    "from pyspark.ml.feature import VectorAssembler"
   ]
  },
  {
   "cell_type": "markdown",
   "metadata": {},
   "source": [
    "Create an instance of the `VectorAssembler` class:"
   ]
  },
  {
   "cell_type": "code",
   "execution_count": 7,
   "metadata": {},
   "outputs": [],
   "source": [
    "assembler = VectorAssembler(inputCols=[\"distance\"], outputCol=\"features\")"
   ]
  },
  {
   "cell_type": "markdown",
   "metadata": {},
   "source": [
    "Call the `transform` method to assemble the feature vector:"
   ]
  },
  {
   "cell_type": "code",
   "execution_count": 8,
   "metadata": {},
   "outputs": [],
   "source": [
    "assembled = assembler.transform(regression_data)"
   ]
  },
  {
   "cell_type": "markdown",
   "metadata": {},
   "source": [
    "Examine the transformed DataFrame:"
   ]
  },
  {
   "cell_type": "code",
   "execution_count": 9,
   "metadata": {},
   "outputs": [
    {
     "name": "stdout",
     "output_type": "stream",
     "text": [
      "root\n",
      " |-- distance: integer (nullable = true)\n",
      " |-- duration: integer (nullable = true)\n",
      " |-- features: vector (nullable = true)\n",
      "\n",
      "+--------+--------+---------+\n",
      "|distance|duration| features|\n",
      "+--------+--------+---------+\n",
      "|   10123|     729|[10123.0]|\n",
      "|   16043|    1299|[16043.0]|\n",
      "|    9362|     736| [9362.0]|\n",
      "|    9060|     773| [9060.0]|\n",
      "|    5076|     721| [5076.0]|\n",
      "+--------+--------+---------+\n",
      "only showing top 5 rows\n",
      "\n"
     ]
    }
   ],
   "source": [
    "assembled.printSchema()\n",
    "assembled.show(5)"
   ]
  },
  {
   "cell_type": "markdown",
   "metadata": {},
   "source": [
    "**Note:** The `VectorAssembler` instance is an example of a Spark MLlib\n",
    "`Transformer`.  It takes a DataFrame as input and returns a DataFrame as\n",
    "output via the `transform` method.\n",
    "\n",
    "\n",
    "## Create a train and test set\n",
    "\n",
    "Use the `randomSplit` method to create random partitions of the data:"
   ]
  },
  {
   "cell_type": "code",
   "execution_count": 15,
   "metadata": {},
   "outputs": [],
   "source": [
    "(train, test) = assembled.randomSplit(weights=[0.7, 0.3], seed=23451)"
   ]
  },
  {
   "cell_type": "markdown",
   "metadata": {},
   "source": [
    "We will fit the regression model on the `train` DataFrame\n",
    "and evaluate it on the `test` DataFrame.\n",
    "\n",
    "\n",
    "## Specify a linear regression model\n",
    "\n",
    "Import the `LinearRegression` class from the `pyspark.ml.regression` module:"
   ]
  },
  {
   "cell_type": "code",
   "execution_count": 16,
   "metadata": {},
   "outputs": [],
   "source": [
    "from pyspark.ml.regression import LinearRegression"
   ]
  },
  {
   "cell_type": "markdown",
   "metadata": {},
   "source": [
    "Create an instance of the `LinearRegression` class:"
   ]
  },
  {
   "cell_type": "code",
   "execution_count": 17,
   "metadata": {},
   "outputs": [],
   "source": [
    "lr = LinearRegression(featuresCol=\"features\", labelCol=\"duration\")"
   ]
  },
  {
   "cell_type": "markdown",
   "metadata": {},
   "source": [
    "Examine additional hyperparameters;"
   ]
  },
  {
   "cell_type": "code",
   "execution_count": 18,
   "metadata": {},
   "outputs": [
    {
     "name": "stdout",
     "output_type": "stream",
     "text": [
      "aggregationDepth: suggested depth for treeAggregate (>= 2). (default: 2)\n",
      "elasticNetParam: the ElasticNet mixing parameter, in range [0, 1]. For alpha = 0, the penalty is an L2 penalty. For alpha = 1, it is an L1 penalty. (default: 0.0)\n",
      "epsilon: The shape parameter to control the amount of robustness. Must be > 1.0. Only valid when loss is huber (default: 1.35)\n",
      "featuresCol: features column name. (default: features, current: features)\n",
      "fitIntercept: whether to fit an intercept term. (default: True)\n",
      "labelCol: label column name. (default: label, current: duration)\n",
      "loss: The loss function to be optimized. Supported options: squaredError, huber. (default: squaredError)\n",
      "maxIter: max number of iterations (>= 0). (default: 100)\n",
      "predictionCol: prediction column name. (default: prediction)\n",
      "regParam: regularization parameter (>= 0). (default: 0.0)\n",
      "solver: The solver algorithm for optimization. Supported options: auto, normal, l-bfgs. (default: auto)\n",
      "standardization: whether to standardize the training features before fitting the model. (default: True)\n",
      "tol: the convergence tolerance for iterative algorithms (>= 0). (default: 1e-06)\n",
      "weightCol: weight column name. If this is not set or empty, we treat all instance weights as 1.0. (undefined)\n"
     ]
    }
   ],
   "source": [
    "print(lr.explainParams())"
   ]
  },
  {
   "cell_type": "markdown",
   "metadata": {},
   "source": [
    "## Fit the linear regression model\n",
    "\n",
    "Call the `fit` method to fit the linear regression model on the `train` data:"
   ]
  },
  {
   "cell_type": "code",
   "execution_count": 19,
   "metadata": {},
   "outputs": [],
   "source": [
    "lr_model = lr.fit(train)"
   ]
  },
  {
   "cell_type": "markdown",
   "metadata": {},
   "source": [
    "The `fit` method returns an instance of the `LinearRegressionModel` class:"
   ]
  },
  {
   "cell_type": "code",
   "execution_count": 20,
   "metadata": {},
   "outputs": [
    {
     "data": {
      "text/plain": [
       "pyspark.ml.regression.LinearRegressionModel"
      ]
     },
     "execution_count": 20,
     "metadata": {},
     "output_type": "execute_result"
    }
   ],
   "source": [
    "type(lr_model)"
   ]
  },
  {
   "cell_type": "markdown",
   "metadata": {},
   "source": [
    "**Note:** The `LinearRegression` instance is an example of a Spark MLlib\n",
    "`Estimator`.  It takes a DataFrame as input and returns a `Transformer` as\n",
    "output via the `fit` method.\n",
    "\n",
    "\n",
    "## Examine the model parameters\n",
    "\n",
    "Access the `intercept` and `coefficients` attributes to get the intercept and\n",
    "slope (for each feature) of the linear regression model:"
   ]
  },
  {
   "cell_type": "code",
   "execution_count": 21,
   "metadata": {},
   "outputs": [
    {
     "data": {
      "text/plain": [
       "DenseVector([0.0383])"
      ]
     },
     "execution_count": 21,
     "metadata": {},
     "output_type": "execute_result"
    }
   ],
   "source": [
    "lr_model.intercept\n",
    "lr_model.coefficients"
   ]
  },
  {
   "cell_type": "markdown",
   "metadata": {},
   "source": [
    "The slope is stored as a `DenseVector`.  Call the `toArray` method to convert\n",
    "the DenseVector to a NumPy array:"
   ]
  },
  {
   "cell_type": "code",
   "execution_count": 22,
   "metadata": {},
   "outputs": [
    {
     "data": {
      "text/plain": [
       "array([0.0382956])"
      ]
     },
     "execution_count": 22,
     "metadata": {},
     "output_type": "execute_result"
    }
   ],
   "source": [
    "lr_model.coefficients.toArray()"
   ]
  },
  {
   "cell_type": "markdown",
   "metadata": {},
   "source": [
    "## Examine various model performance measures\n",
    "\n",
    "The `summary` attribute is an instance of the `LinearRegressionTrainingSummary` class:"
   ]
  },
  {
   "cell_type": "code",
   "execution_count": 23,
   "metadata": {},
   "outputs": [
    {
     "data": {
      "text/plain": [
       "pyspark.ml.regression.LinearRegressionTrainingSummary"
      ]
     },
     "execution_count": 23,
     "metadata": {},
     "output_type": "execute_result"
    }
   ],
   "source": [
    "type(lr_model.summary)"
   ]
  },
  {
   "cell_type": "markdown",
   "metadata": {},
   "source": [
    "It contains a number of model performance measures:"
   ]
  },
  {
   "cell_type": "code",
   "execution_count": 24,
   "metadata": {},
   "outputs": [
    {
     "data": {
      "text/plain": [
       "131.65629110561895"
      ]
     },
     "execution_count": 24,
     "metadata": {},
     "output_type": "execute_result"
    }
   ],
   "source": [
    "lr_model.summary.r2\n",
    "lr_model.summary.rootMeanSquaredError"
   ]
  },
  {
   "cell_type": "markdown",
   "metadata": {},
   "source": [
    "## Examine various model diagnostics\n",
    "\n",
    "The `summary` attribute also contains various model diagnostics:"
   ]
  },
  {
   "cell_type": "code",
   "execution_count": 26,
   "metadata": {},
   "outputs": [
    {
     "data": {
      "text/plain": [
       "[0.0, 0.0]"
      ]
     },
     "execution_count": 26,
     "metadata": {},
     "output_type": "execute_result"
    }
   ],
   "source": [
    "lr_model.summary.coefficientStandardErrors\n",
    "lr_model.summary.tValues\n",
    "lr_model.summary.pValues"
   ]
  },
  {
   "cell_type": "markdown",
   "metadata": {},
   "source": [
    "**Important:** The first element of each list corresponds to the slope and\n",
    "the last element corresponds to the intercept.\n",
    "\n",
    "**Note:** The summary attribute contains additional useful information.\n",
    "  \n",
    "\n",
    "## Apply the linear regression model to the test data\n",
    "\n",
    "Use the `transform` method to apply the linear regression model to the `test` DataFrame:"
   ]
  },
  {
   "cell_type": "code",
   "execution_count": 27,
   "metadata": {},
   "outputs": [],
   "source": [
    "predictions = lr_model.transform(test)"
   ]
  },
  {
   "cell_type": "markdown",
   "metadata": {},
   "source": [
    "The `transform` method adds a column to the DataFrame with the predicted label:"
   ]
  },
  {
   "cell_type": "code",
   "execution_count": 28,
   "metadata": {},
   "outputs": [
    {
     "name": "stdout",
     "output_type": "stream",
     "text": [
      "root\n",
      " |-- distance: integer (nullable = true)\n",
      " |-- duration: integer (nullable = true)\n",
      " |-- features: vector (nullable = true)\n",
      " |-- prediction: double (nullable = false)\n",
      "\n",
      "+--------+--------+--------+-----------------+\n",
      "|distance|duration|features|       prediction|\n",
      "+--------+--------+--------+-----------------+\n",
      "|     342|      35| [342.0]|358.7746579280776|\n",
      "|     390|      28| [390.0]|360.6128469503565|\n",
      "|     396|      79| [396.0]|360.8426205781414|\n",
      "|     421|      89| [421.0]|361.8000106939117|\n",
      "|     433|     109| [433.0]|362.2595579494814|\n",
      "+--------+--------+--------+-----------------+\n",
      "only showing top 5 rows\n",
      "\n"
     ]
    }
   ],
   "source": [
    "predictions.printSchema()\n",
    "predictions.show(5)"
   ]
  },
  {
   "cell_type": "markdown",
   "metadata": {},
   "source": [
    "## Evaluate the linear regression model on the test data\n",
    "\n",
    "Import the `RegressionEvaluator` class from the `pyspark.ml.evaluation` module:"
   ]
  },
  {
   "cell_type": "code",
   "execution_count": 29,
   "metadata": {},
   "outputs": [],
   "source": [
    "from pyspark.ml.evaluation import RegressionEvaluator"
   ]
  },
  {
   "cell_type": "markdown",
   "metadata": {},
   "source": [
    "Create an instance of the `RegressionEvaluator` class:"
   ]
  },
  {
   "cell_type": "code",
   "execution_count": 30,
   "metadata": {},
   "outputs": [],
   "source": [
    "evaluator = RegressionEvaluator(predictionCol=\"prediction\", labelCol=\"duration\", metricName=\"r2\")"
   ]
  },
  {
   "cell_type": "markdown",
   "metadata": {},
   "source": [
    "Call the `explainParams` method to see other metrics:"
   ]
  },
  {
   "cell_type": "code",
   "execution_count": 31,
   "metadata": {},
   "outputs": [
    {
     "name": "stdout",
     "output_type": "stream",
     "text": [
      "labelCol: label column name. (default: label, current: duration)\n",
      "metricName: metric name in evaluation - one of:\n",
      "                       rmse - root mean squared error (default)\n",
      "                       mse - mean squared error\n",
      "                       r2 - r^2 metric\n",
      "                       mae - mean absolute error\n",
      "                       var - explained variance. (default: rmse, current: r2)\n",
      "predictionCol: prediction column name. (default: prediction, current: prediction)\n",
      "throughOrigin: whether the regression is through the origin. (default: False)\n",
      "weightCol: weight column name. If this is not set or empty, we treat all instance weights as 1.0. (undefined)\n"
     ]
    }
   ],
   "source": [
    "print(evaluator.explainParams())"
   ]
  },
  {
   "cell_type": "markdown",
   "metadata": {},
   "source": [
    "Use the `evaluate` method to compute the metric on the `predictions` DataFrame:"
   ]
  },
  {
   "cell_type": "code",
   "execution_count": 32,
   "metadata": {},
   "outputs": [
    {
     "data": {
      "text/plain": [
       "0.8690285984936144"
      ]
     },
     "execution_count": 32,
     "metadata": {},
     "output_type": "execute_result"
    }
   ],
   "source": [
    "evaluator.evaluate(predictions)"
   ]
  },
  {
   "cell_type": "markdown",
   "metadata": {},
   "source": [
    "Use the `setMetricName` method to change the metric:"
   ]
  },
  {
   "cell_type": "code",
   "execution_count": 33,
   "metadata": {},
   "outputs": [
    {
     "data": {
      "text/plain": [
       "132.40789632439325"
      ]
     },
     "execution_count": 33,
     "metadata": {},
     "output_type": "execute_result"
    }
   ],
   "source": [
    "evaluator.setMetricName(\"rmse\").evaluate(predictions)"
   ]
  },
  {
   "cell_type": "markdown",
   "metadata": {},
   "source": [
    "**Note:** You can also use the `evaluate` method of the `LinearRegressionModel` class.\n",
    "\n",
    "\n",
    "## Plot the linear regression model"
   ]
  },
  {
   "cell_type": "code",
   "execution_count": 34,
   "metadata": {},
   "outputs": [
    {
     "data": {
      "image/png": "[encoded data removed]",
      "text/plain": [
       "<Figure size 432x288 with 1 Axes>"
      ]
     },
     "metadata": {
      "needs_background": "light"
     },
     "output_type": "display_data"
    }
   ],
   "source": [
    "def plot_lr_model():\n",
    "  pdf = predictions.sample(withReplacement=False, fraction= 0.1, seed=34512).toPandas()\n",
    "  plt.scatter(\"distance\", \"duration\", data=pdf)\n",
    "  plt.plot(\"distance\", \"prediction\", color=\"black\", data=pdf)\n",
    "  plt.xlabel(\"Distance (m)\")\n",
    "  plt.ylabel(\"Duration (s)\")\n",
    "  plt.title(\"Linear Regression Model\")\n",
    "\n",
    "    \n",
    "plot_lr_model()"
   ]
  },
  {
   "cell_type": "markdown",
   "metadata": {},
   "source": [
    "Free resources"
   ]
  },
  {
   "cell_type": "code",
   "execution_count": 35,
   "metadata": {},
   "outputs": [],
   "source": [
    "spark.stop()"
   ]
  },
  {
   "cell_type": "code",
   "execution_count": null,
   "metadata": {},
   "outputs": [],
   "source": []
  }
 ],
 "metadata": {
  "kernelspec": {
   "display_name": "Python 3",
   "language": "python",
   "name": "python3"
  },
  "language_info": {
   "codemirror_mode": {
    "name": "ipython",
    "version": 3
   },
   "file_extension": ".py",
   "mimetype": "text/x-python",
   "name": "python",
   "nbconvert_exporter": "python",
   "pygments_lexer": "ipython3",
   "version": "3.7.3"
  }
 },
 "nbformat": 4,
 "nbformat_minor": 4
}
